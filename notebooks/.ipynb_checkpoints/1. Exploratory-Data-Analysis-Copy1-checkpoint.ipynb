{
 "cells": [
  {
   "cell_type": "markdown",
   "metadata": {
    "id": "xCjRvTxKOQuR",
    "tags": []
   },
   "source": [
    "<h1 align=Center>Personalized cancer diagnosis</h1>"
   ]
  },
  {
   "cell_type": "code",
   "execution_count": 1,
   "metadata": {
    "id": "6_tz3SlAOQuv"
   },
   "outputs": [
    {
     "name": "stderr",
     "output_type": "stream",
     "text": [
      "[nltk_data] Downloading package stopwords to\n",
      "[nltk_data]     /home/kmistri/nltk_data...\n",
      "[nltk_data]   Package stopwords is already up-to-date!\n"
     ]
    }
   ],
   "source": [
    "import streamlit as st\n",
    "import os\n",
    "import pandas as pd\n",
    "import numpy as np\n",
    "import nltk\n",
    "from nltk.corpus import stopwords\n",
    "import time\n",
    "import re\n",
    "from sklearn.model_selection import train_test_split\n",
    "import seaborn as sns\n",
    "from matplotlib import pyplot as plt\n",
    "from sklearn.metrics import confusion_matrix\n",
    "from sklearn.metrics import accuracy_score, log_loss\n",
    "import random\n",
    "import joblib\n",
    "import math\n",
    "from sklearn.calibration import CalibratedClassifierCV\n",
    "from sklearn.feature_extraction.text import CountVectorizer\n",
    "from sklearn.linear_model import SGDClassifier\n",
    "from sklearn.preprocessing import normalize\n",
    "\n",
    "import warnings\n",
    "warnings.filterwarnings(\"ignore\")\n",
    "\n",
    "random_state = 42\n",
    "np.random.seed(random_state)\n",
    "random.seed(random_state)\n",
    "from collections import Counter, defaultdict\n",
    "from scipy.sparse import hstack\n",
    "\n",
    "# Importing utility functions from parent directory. Can't keep in pages as it creates menu in sidebar here.\n",
    "import sys \n",
    "sys.path.insert(0, '../')\n",
    "from utilities import *"
   ]
  },
  {
   "cell_type": "code",
   "execution_count": 2,
   "metadata": {},
   "outputs": [],
   "source": [
    "# Environment Variables\n",
    "\n",
    "# For notebooks Path will have to go to parent directory so path will be \"../XXXX\"\n",
    "# For streamlit pages folder it will be managed through parent directory only so path will be \"./XXXX\"\n",
    "TRAIN_DATA_DIR = \"../train_data/\" \n",
    "TEST_DATA_DIR = \"../test_data/\"\n",
    "PROCESSED_DATA_DIR = \"../preprocessed/\"\n",
    "MODELS_DIR = \"../models/\"\n"
   ]
  },
  {
   "cell_type": "markdown",
   "metadata": {
    "id": "M7AMKFKcOQu1"
   },
   "source": [
    "<h3>1. Reading Data</h3>\n",
    "<p>training/training_variants is a comma separated file containing the description of the genetic mutations used for training. <br>\n",
    "   Fields are \n",
    "   <ul>\n",
    "       <li><b>ID : </b>the id of the row used to link the mutation to the clinical evidence</li>\n",
    "       <li><b>Gene : </b>the gene where this genetic mutation is located </li>\n",
    "       <li><b>Variation : </b>the aminoacid change for this mutations </li>\n",
    "       <li><b>Class :</b> 1-9 the class this genetic mutation has been classified on</li>\n",
    "   </ul>"
   ]
  },
  {
   "cell_type": "code",
   "execution_count": 3,
   "metadata": {
    "colab": {
     "base_uri": "https://localhost:8080/",
     "height": 258
    },
    "id": "0Os-owW1OQu2",
    "outputId": "ebdc3fa5-ee18-4294-8eac-51357ada7bf1"
   },
   "outputs": [
    {
     "name": "stdout",
     "output_type": "stream",
     "text": [
      "Number of data points :  3321\n",
      "Number of features :  4\n",
      "Features :  ['ID' 'Gene' 'Variation' 'Class']\n"
     ]
    },
    {
     "data": {
      "text/html": [
       "<div>\n",
       "<style scoped>\n",
       "    .dataframe tbody tr th:only-of-type {\n",
       "        vertical-align: middle;\n",
       "    }\n",
       "\n",
       "    .dataframe tbody tr th {\n",
       "        vertical-align: top;\n",
       "    }\n",
       "\n",
       "    .dataframe thead th {\n",
       "        text-align: right;\n",
       "    }\n",
       "</style>\n",
       "<table border=\"1\" class=\"dataframe\">\n",
       "  <thead>\n",
       "    <tr style=\"text-align: right;\">\n",
       "      <th></th>\n",
       "      <th>ID</th>\n",
       "      <th>Gene</th>\n",
       "      <th>Variation</th>\n",
       "      <th>Class</th>\n",
       "    </tr>\n",
       "  </thead>\n",
       "  <tbody>\n",
       "    <tr>\n",
       "      <th>0</th>\n",
       "      <td>0</td>\n",
       "      <td>FAM58A</td>\n",
       "      <td>Truncating Mutations</td>\n",
       "      <td>1</td>\n",
       "    </tr>\n",
       "    <tr>\n",
       "      <th>1</th>\n",
       "      <td>1</td>\n",
       "      <td>CBL</td>\n",
       "      <td>W802*</td>\n",
       "      <td>2</td>\n",
       "    </tr>\n",
       "    <tr>\n",
       "      <th>2</th>\n",
       "      <td>2</td>\n",
       "      <td>CBL</td>\n",
       "      <td>Q249E</td>\n",
       "      <td>2</td>\n",
       "    </tr>\n",
       "    <tr>\n",
       "      <th>3</th>\n",
       "      <td>3</td>\n",
       "      <td>CBL</td>\n",
       "      <td>N454D</td>\n",
       "      <td>3</td>\n",
       "    </tr>\n",
       "    <tr>\n",
       "      <th>4</th>\n",
       "      <td>4</td>\n",
       "      <td>CBL</td>\n",
       "      <td>L399V</td>\n",
       "      <td>4</td>\n",
       "    </tr>\n",
       "  </tbody>\n",
       "</table>\n",
       "</div>"
      ],
      "text/plain": [
       "   ID    Gene             Variation  Class\n",
       "0   0  FAM58A  Truncating Mutations      1\n",
       "1   1     CBL                 W802*      2\n",
       "2   2     CBL                 Q249E      2\n",
       "3   3     CBL                 N454D      3\n",
       "4   4     CBL                 L399V      4"
      ]
     },
     "execution_count": 3,
     "metadata": {},
     "output_type": "execute_result"
    }
   ],
   "source": [
    "data = pd.read_csv(TRAIN_DATA_DIR+'training_variants')\n",
    "print('Number of data points : ', data.shape[0])\n",
    "print('Number of features : ', data.shape[1])\n",
    "print('Features : ', data.columns.values)\n",
    "data.head()"
   ]
  },
  {
   "cell_type": "code",
   "execution_count": 4,
   "metadata": {
    "colab": {
     "base_uri": "https://localhost:8080/",
     "height": 258
    },
    "id": "1i30WJEyOQu9",
    "outputId": "59124dcb-ad0e-4476-ac94-b50392e00b17"
   },
   "outputs": [
    {
     "name": "stdout",
     "output_type": "stream",
     "text": [
      "Number of data points :  3321\n",
      "Number of features :  2\n",
      "Features :  ['ID' 'Text']\n"
     ]
    },
    {
     "data": {
      "text/html": [
       "<div>\n",
       "<style scoped>\n",
       "    .dataframe tbody tr th:only-of-type {\n",
       "        vertical-align: middle;\n",
       "    }\n",
       "\n",
       "    .dataframe tbody tr th {\n",
       "        vertical-align: top;\n",
       "    }\n",
       "\n",
       "    .dataframe thead th {\n",
       "        text-align: right;\n",
       "    }\n",
       "</style>\n",
       "<table border=\"1\" class=\"dataframe\">\n",
       "  <thead>\n",
       "    <tr style=\"text-align: right;\">\n",
       "      <th></th>\n",
       "      <th>ID</th>\n",
       "      <th>Text</th>\n",
       "    </tr>\n",
       "  </thead>\n",
       "  <tbody>\n",
       "    <tr>\n",
       "      <th>0</th>\n",
       "      <td>0</td>\n",
       "      <td>Cyclin-dependent kinases (CDKs) regulate a var...</td>\n",
       "    </tr>\n",
       "    <tr>\n",
       "      <th>1</th>\n",
       "      <td>1</td>\n",
       "      <td>Abstract Background  Non-small cell lung canc...</td>\n",
       "    </tr>\n",
       "    <tr>\n",
       "      <th>2</th>\n",
       "      <td>2</td>\n",
       "      <td>Abstract Background  Non-small cell lung canc...</td>\n",
       "    </tr>\n",
       "    <tr>\n",
       "      <th>3</th>\n",
       "      <td>3</td>\n",
       "      <td>Recent evidence has demonstrated that acquired...</td>\n",
       "    </tr>\n",
       "    <tr>\n",
       "      <th>4</th>\n",
       "      <td>4</td>\n",
       "      <td>Oncogenic mutations in the monomeric Casitas B...</td>\n",
       "    </tr>\n",
       "  </tbody>\n",
       "</table>\n",
       "</div>"
      ],
      "text/plain": [
       "   ID                                               Text\n",
       "0   0  Cyclin-dependent kinases (CDKs) regulate a var...\n",
       "1   1   Abstract Background  Non-small cell lung canc...\n",
       "2   2   Abstract Background  Non-small cell lung canc...\n",
       "3   3  Recent evidence has demonstrated that acquired...\n",
       "4   4  Oncogenic mutations in the monomeric Casitas B..."
      ]
     },
     "execution_count": 4,
     "metadata": {},
     "output_type": "execute_result"
    }
   ],
   "source": [
    "data_text =pd.read_csv(TRAIN_DATA_DIR+\"training_text\",sep=\"\\|\\|\",engine=\"python\",names=[\"ID\",\"Text\"],skiprows=1)\n",
    "print('Number of data points : ', data_text.shape[0])\n",
    "print('Number of features : ', data_text.shape[1])\n",
    "print('Features : ', data_text.columns.values)\n",
    "data_text.head()"
   ]
  },
  {
   "cell_type": "markdown",
   "metadata": {
    "id": "ZSy3O7VvOQvC"
   },
   "source": [
    "<h3>2. Preprocessing of text</h3>"
   ]
  },
  {
   "cell_type": "code",
   "execution_count": 5,
   "metadata": {
    "colab": {
     "base_uri": "https://localhost:8080/"
    },
    "id": "zDWQmo4HScKF",
    "outputId": "8fda67ab-7e7b-45bf-aede-e38e8f00c576"
   },
   "outputs": [
    {
     "name": "stderr",
     "output_type": "stream",
     "text": [
      "[nltk_data] Downloading package stopwords to\n",
      "[nltk_data]     /home/kmistri/nltk_data...\n",
      "[nltk_data]   Package stopwords is already up-to-date!\n"
     ]
    },
    {
     "data": {
      "text/plain": [
       "True"
      ]
     },
     "execution_count": 5,
     "metadata": {},
     "output_type": "execute_result"
    }
   ],
   "source": [
    "import nltk\n",
    "nltk.download('stopwords')"
   ]
  },
  {
   "cell_type": "code",
   "execution_count": 6,
   "metadata": {
    "id": "Y9RpP_0QOQvD"
   },
   "outputs": [],
   "source": [
    "# loading stop words from nltk library\n",
    "stop_words = set(stopwords.words('english'))\n",
    "\n",
    "def nlp_preprocessing(total_text, index, column):\n",
    "    if type(total_text) is not int:\n",
    "        string = \"\"\n",
    "        # replace every special char with space\n",
    "        total_text = re.sub('[^a-zA-Z0-9\\n]', ' ', total_text)\n",
    "        # replace multiple spaces with single space\n",
    "        total_text = re.sub('\\s+',' ', total_text)\n",
    "        # converting all the chars into lower-case.\n",
    "        total_text = total_text.lower()\n",
    "        \n",
    "        for word in total_text.split():\n",
    "        # if the word is a not a stop word then retain that word from the data\n",
    "            if not word in stop_words:\n",
    "                string += word + \" \"\n",
    "        \n",
    "        data_text[column][index] = string"
   ]
  },
  {
   "cell_type": "code",
   "execution_count": 7,
   "metadata": {
    "colab": {
     "base_uri": "https://localhost:8080/"
    },
    "id": "lkCyyQm6OQvH",
    "outputId": "60f73d07-91ed-4be1-8955-6ab1c4fde013"
   },
   "outputs": [
    {
     "name": "stdout",
     "output_type": "stream",
     "text": [
      "there is no text description for id: 1109\n",
      "there is no text description for id: 1277\n",
      "there is no text description for id: 1407\n",
      "there is no text description for id: 1639\n",
      "there is no text description for id: 2755\n"
     ]
    }
   ],
   "source": [
    "#text processing stage.\n",
    "for index, row in data_text.iterrows():\n",
    "    if type(row['Text']) is str:\n",
    "        nlp_preprocessing(row['Text'], index, 'Text')\n",
    "    else:\n",
    "        print(\"there is no text description for id:\",index)"
   ]
  },
  {
   "cell_type": "code",
   "execution_count": 8,
   "metadata": {
    "colab": {
     "base_uri": "https://localhost:8080/",
     "height": 206
    },
    "id": "qk8gHyNhOQvL",
    "outputId": "efcbbeb5-8348-4058-9642-df180b2d5a2a"
   },
   "outputs": [
    {
     "data": {
      "text/html": [
       "<div>\n",
       "<style scoped>\n",
       "    .dataframe tbody tr th:only-of-type {\n",
       "        vertical-align: middle;\n",
       "    }\n",
       "\n",
       "    .dataframe tbody tr th {\n",
       "        vertical-align: top;\n",
       "    }\n",
       "\n",
       "    .dataframe thead th {\n",
       "        text-align: right;\n",
       "    }\n",
       "</style>\n",
       "<table border=\"1\" class=\"dataframe\">\n",
       "  <thead>\n",
       "    <tr style=\"text-align: right;\">\n",
       "      <th></th>\n",
       "      <th>ID</th>\n",
       "      <th>Gene</th>\n",
       "      <th>Variation</th>\n",
       "      <th>Class</th>\n",
       "      <th>Text</th>\n",
       "    </tr>\n",
       "  </thead>\n",
       "  <tbody>\n",
       "    <tr>\n",
       "      <th>0</th>\n",
       "      <td>0</td>\n",
       "      <td>FAM58A</td>\n",
       "      <td>Truncating Mutations</td>\n",
       "      <td>1</td>\n",
       "      <td>cyclin dependent kinases cdks regulate variety...</td>\n",
       "    </tr>\n",
       "    <tr>\n",
       "      <th>1</th>\n",
       "      <td>1</td>\n",
       "      <td>CBL</td>\n",
       "      <td>W802*</td>\n",
       "      <td>2</td>\n",
       "      <td>abstract background non small cell lung cancer...</td>\n",
       "    </tr>\n",
       "    <tr>\n",
       "      <th>2</th>\n",
       "      <td>2</td>\n",
       "      <td>CBL</td>\n",
       "      <td>Q249E</td>\n",
       "      <td>2</td>\n",
       "      <td>abstract background non small cell lung cancer...</td>\n",
       "    </tr>\n",
       "    <tr>\n",
       "      <th>3</th>\n",
       "      <td>3</td>\n",
       "      <td>CBL</td>\n",
       "      <td>N454D</td>\n",
       "      <td>3</td>\n",
       "      <td>recent evidence demonstrated acquired uniparen...</td>\n",
       "    </tr>\n",
       "    <tr>\n",
       "      <th>4</th>\n",
       "      <td>4</td>\n",
       "      <td>CBL</td>\n",
       "      <td>L399V</td>\n",
       "      <td>4</td>\n",
       "      <td>oncogenic mutations monomeric casitas b lineag...</td>\n",
       "    </tr>\n",
       "  </tbody>\n",
       "</table>\n",
       "</div>"
      ],
      "text/plain": [
       "   ID    Gene             Variation  Class  \\\n",
       "0   0  FAM58A  Truncating Mutations      1   \n",
       "1   1     CBL                 W802*      2   \n",
       "2   2     CBL                 Q249E      2   \n",
       "3   3     CBL                 N454D      3   \n",
       "4   4     CBL                 L399V      4   \n",
       "\n",
       "                                                Text  \n",
       "0  cyclin dependent kinases cdks regulate variety...  \n",
       "1  abstract background non small cell lung cancer...  \n",
       "2  abstract background non small cell lung cancer...  \n",
       "3  recent evidence demonstrated acquired uniparen...  \n",
       "4  oncogenic mutations monomeric casitas b lineag...  "
      ]
     },
     "execution_count": 8,
     "metadata": {},
     "output_type": "execute_result"
    }
   ],
   "source": [
    "#merging both gene_variations and text data based on ID\n",
    "merged_results = pd.merge(data, data_text,on='ID', how='left')\n",
    "merged_results.head()"
   ]
  },
  {
   "cell_type": "code",
   "execution_count": 9,
   "metadata": {
    "colab": {
     "base_uri": "https://localhost:8080/",
     "height": 206
    },
    "id": "z4ITDIVDOQvQ",
    "outputId": "abe46bc8-9eb0-4087-9f4c-8b546930d81a"
   },
   "outputs": [
    {
     "data": {
      "text/html": [
       "<div>\n",
       "<style scoped>\n",
       "    .dataframe tbody tr th:only-of-type {\n",
       "        vertical-align: middle;\n",
       "    }\n",
       "\n",
       "    .dataframe tbody tr th {\n",
       "        vertical-align: top;\n",
       "    }\n",
       "\n",
       "    .dataframe thead th {\n",
       "        text-align: right;\n",
       "    }\n",
       "</style>\n",
       "<table border=\"1\" class=\"dataframe\">\n",
       "  <thead>\n",
       "    <tr style=\"text-align: right;\">\n",
       "      <th></th>\n",
       "      <th>ID</th>\n",
       "      <th>Gene</th>\n",
       "      <th>Variation</th>\n",
       "      <th>Class</th>\n",
       "      <th>Text</th>\n",
       "    </tr>\n",
       "  </thead>\n",
       "  <tbody>\n",
       "    <tr>\n",
       "      <th>1109</th>\n",
       "      <td>1109</td>\n",
       "      <td>FANCA</td>\n",
       "      <td>S1088F</td>\n",
       "      <td>1</td>\n",
       "      <td>NaN</td>\n",
       "    </tr>\n",
       "    <tr>\n",
       "      <th>1277</th>\n",
       "      <td>1277</td>\n",
       "      <td>ARID5B</td>\n",
       "      <td>Truncating Mutations</td>\n",
       "      <td>1</td>\n",
       "      <td>NaN</td>\n",
       "    </tr>\n",
       "    <tr>\n",
       "      <th>1407</th>\n",
       "      <td>1407</td>\n",
       "      <td>FGFR3</td>\n",
       "      <td>K508M</td>\n",
       "      <td>6</td>\n",
       "      <td>NaN</td>\n",
       "    </tr>\n",
       "    <tr>\n",
       "      <th>1639</th>\n",
       "      <td>1639</td>\n",
       "      <td>FLT1</td>\n",
       "      <td>Amplification</td>\n",
       "      <td>6</td>\n",
       "      <td>NaN</td>\n",
       "    </tr>\n",
       "    <tr>\n",
       "      <th>2755</th>\n",
       "      <td>2755</td>\n",
       "      <td>BRAF</td>\n",
       "      <td>G596C</td>\n",
       "      <td>7</td>\n",
       "      <td>NaN</td>\n",
       "    </tr>\n",
       "  </tbody>\n",
       "</table>\n",
       "</div>"
      ],
      "text/plain": [
       "        ID    Gene             Variation  Class Text\n",
       "1109  1109   FANCA                S1088F      1  NaN\n",
       "1277  1277  ARID5B  Truncating Mutations      1  NaN\n",
       "1407  1407   FGFR3                 K508M      6  NaN\n",
       "1639  1639    FLT1         Amplification      6  NaN\n",
       "2755  2755    BRAF                 G596C      7  NaN"
      ]
     },
     "execution_count": 9,
     "metadata": {},
     "output_type": "execute_result"
    }
   ],
   "source": [
    "merged_results[merged_results.isnull().any(axis=1)]"
   ]
  },
  {
   "cell_type": "code",
   "execution_count": 10,
   "metadata": {
    "id": "co1v4XZ7OQvU"
   },
   "outputs": [],
   "source": [
    "merged_results.loc[merged_results['Text'].isnull(),'Text'] = merged_results['Gene'] +' '+merged_results['Variation']"
   ]
  },
  {
   "cell_type": "code",
   "execution_count": 11,
   "metadata": {
    "colab": {
     "base_uri": "https://localhost:8080/",
     "height": 81
    },
    "id": "TEzTARDBOQvX",
    "outputId": "f312b8b5-ca0e-4b05-9672-a1b2fe3416c9"
   },
   "outputs": [
    {
     "data": {
      "text/html": [
       "<div>\n",
       "<style scoped>\n",
       "    .dataframe tbody tr th:only-of-type {\n",
       "        vertical-align: middle;\n",
       "    }\n",
       "\n",
       "    .dataframe tbody tr th {\n",
       "        vertical-align: top;\n",
       "    }\n",
       "\n",
       "    .dataframe thead th {\n",
       "        text-align: right;\n",
       "    }\n",
       "</style>\n",
       "<table border=\"1\" class=\"dataframe\">\n",
       "  <thead>\n",
       "    <tr style=\"text-align: right;\">\n",
       "      <th></th>\n",
       "      <th>ID</th>\n",
       "      <th>Gene</th>\n",
       "      <th>Variation</th>\n",
       "      <th>Class</th>\n",
       "      <th>Text</th>\n",
       "    </tr>\n",
       "  </thead>\n",
       "  <tbody>\n",
       "    <tr>\n",
       "      <th>1109</th>\n",
       "      <td>1109</td>\n",
       "      <td>FANCA</td>\n",
       "      <td>S1088F</td>\n",
       "      <td>1</td>\n",
       "      <td>FANCA S1088F</td>\n",
       "    </tr>\n",
       "  </tbody>\n",
       "</table>\n",
       "</div>"
      ],
      "text/plain": [
       "        ID   Gene Variation  Class          Text\n",
       "1109  1109  FANCA    S1088F      1  FANCA S1088F"
      ]
     },
     "execution_count": 11,
     "metadata": {},
     "output_type": "execute_result"
    }
   ],
   "source": [
    "merged_results[merged_results['ID']==1109]"
   ]
  },
  {
   "cell_type": "markdown",
   "metadata": {
    "id": "4ha0M1aOOQvg"
   },
   "source": [
    "<h3>3. Test, Train and Cross Validation Split</h3>\n",
    "<li>Splitting data into train, test and cross validation (64:20:16)</li>\n",
    "<li> We split the data into train, test and cross validation data sets, preserving the ratio of class distribution in the original data set using statify split feature based on class</li>"
   ]
  },
  {
   "cell_type": "code",
   "execution_count": 12,
   "metadata": {
    "id": "ijj-MmMwOQvk"
   },
   "outputs": [],
   "source": [
    "y_true = merged_results['Class'].values\n",
    "merged_results.Gene      = merged_results.Gene.str.replace('\\s+', '_',regex=True)\n",
    "merged_results.Variation = merged_results.Variation.str.replace('\\s+', '_',regex=True)\n",
    "\n",
    "# split the data into test and train by maintaining same distribution of output varaible 'y_true' [stratify=y_true]\n",
    "X_train, test_df, y_train, y_test = train_test_split(merged_results, y_true, stratify=y_true, test_size=0.2)\n",
    "# split the train data into train and cross validation by maintaining same distribution of output varaible 'y_train' [stratify=y_train]\n",
    "train_df, cv_df, y_train, y_cv = train_test_split(X_train, y_train, stratify=y_train, test_size=0.2)"
   ]
  },
  {
   "cell_type": "code",
   "execution_count": 13,
   "metadata": {
    "colab": {
     "base_uri": "https://localhost:8080/"
    },
    "id": "wbzQMYZWOQvp",
    "outputId": "6fda1724-59a0-4710-8f1b-213de93cc04c"
   },
   "outputs": [
    {
     "name": "stdout",
     "output_type": "stream",
     "text": [
      "Number of data points in train data: 2124\n",
      "Number of data points in test data: 665\n",
      "Number of data points in cross validation data: 532\n"
     ]
    }
   ],
   "source": [
    "print('Number of data points in train data:', train_df.shape[0])\n",
    "print('Number of data points in test data:', test_df.shape[0])\n",
    "print('Number of data points in cross validation data:', cv_df.shape[0])"
   ]
  },
  {
   "cell_type": "markdown",
   "metadata": {
    "id": "NQeo-HuDOQvs",
    "tags": []
   },
   "source": [
    "<h4>3.1. Distribution of y_i's in Train, Test and Cross Validation datasets</h4>"
   ]
  },
  {
   "cell_type": "code",
   "execution_count": 14,
   "metadata": {
    "colab": {
     "base_uri": "https://localhost:8080/",
     "height": 1000
    },
    "id": "KC3KErJmOQvt",
    "outputId": "a28cc948-fadf-4d7f-8a3b-3bb6e7558031"
   },
   "outputs": [
    {
     "data": {
      "image/png": "[encoded data removed]",
      "text/plain": [
       "<Figure size 432x288 with 1 Axes>"
      ]
     },
     "metadata": {
      "needs_background": "light"
     },
     "output_type": "display_data"
    },
    {
     "name": "stdout",
     "output_type": "stream",
     "text": [
      "Number of data points in class 7 : 609 ( 28.672 %)\n",
      "Number of data points in class 4 : 439 ( 20.669 %)\n",
      "Number of data points in class 1 : 363 ( 17.09 %)\n",
      "Number of data points in class 2 : 289 ( 13.606 %)\n",
      "Number of data points in class 6 : 176 ( 8.286 %)\n",
      "Number of data points in class 5 : 155 ( 7.298 %)\n",
      "Number of data points in class 3 : 57 ( 2.684 %)\n",
      "Number of data points in class 9 : 24 ( 1.13 %)\n",
      "Number of data points in class 8 : 12 ( 0.565 %)\n",
      "--------------------------------------------------------------------------------\n"
     ]
    },
    {
     "data": {
      "image/png": "[encoded data removed]",
      "text/plain": [
       "<Figure size 432x288 with 1 Axes>"
      ]
     },
     "metadata": {
      "needs_background": "light"
     },
     "output_type": "display_data"
    },
    {
     "name": "stdout",
     "output_type": "stream",
     "text": [
      "Number of data points in class 7 : 191 ( 28.722 %)\n",
      "Number of data points in class 4 : 137 ( 20.602 %)\n",
      "Number of data points in class 1 : 114 ( 17.143 %)\n",
      "Number of data points in class 2 : 91 ( 13.684 %)\n",
      "Number of data points in class 6 : 55 ( 8.271 %)\n",
      "Number of data points in class 5 : 48 ( 7.218 %)\n",
      "Number of data points in class 3 : 18 ( 2.707 %)\n",
      "Number of data points in class 9 : 7 ( 1.053 %)\n",
      "Number of data points in class 8 : 4 ( 0.602 %)\n",
      "--------------------------------------------------------------------------------\n"
     ]
    },
    {
     "data": {
      "image/png": "[encoded data removed]",
      "text/plain": [
       "<Figure size 432x288 with 1 Axes>"
      ]
     },
     "metadata": {
      "needs_background": "light"
     },
     "output_type": "display_data"
    },
    {
     "name": "stdout",
     "output_type": "stream",
     "text": [
      "Number of data points in class 7 : 153 ( 28.759 %)\n",
      "Number of data points in class 4 : 110 ( 20.677 %)\n",
      "Number of data points in class 1 : 91 ( 17.105 %)\n",
      "Number of data points in class 2 : 72 ( 13.534 %)\n",
      "Number of data points in class 6 : 44 ( 8.271 %)\n",
      "Number of data points in class 5 : 39 ( 7.331 %)\n",
      "Number of data points in class 3 : 14 ( 2.632 %)\n",
      "Number of data points in class 9 : 6 ( 1.128 %)\n",
      "Number of data points in class 8 : 3 ( 0.564 %)\n"
     ]
    }
   ],
   "source": [
    "# it returns a dict, keys as class labels and values as the number of data points in that class\n",
    "train_class_distribution = train_df['Class'].value_counts().sort_index()\n",
    "test_class_distribution = test_df['Class'].value_counts().sort_index()\n",
    "cv_class_distribution = cv_df['Class'].value_counts().sort_index()\n",
    "\n",
    "my_colors = 'rgbkymc'\n",
    "train_class_distribution.plot(kind='bar')\n",
    "plt.xlabel('Class')\n",
    "plt.ylabel('Data points per Class')\n",
    "plt.title('Distribution of yi in train data')\n",
    "plt.grid()\n",
    "plt.show()\n",
    "\n",
    "# ref: argsort https://docs.scipy.org/doc/numpy/reference/generated/numpy.argsort.html\n",
    "# -(train_class_distribution.values): the minus sign will give us in decreasing order\n",
    "sorted_yi = np.argsort(-train_class_distribution.values)\n",
    "for i in sorted_yi:\n",
    "    print('Number of data points in class', i+1, ':',train_class_distribution.values[i], '(', np.round((train_class_distribution.values[i]/train_df.shape[0]*100), 3), '%)')\n",
    "\n",
    "    \n",
    "print('-'*80)\n",
    "my_colors = 'rgbkymc'\n",
    "test_class_distribution.plot(kind='bar')\n",
    "plt.xlabel('Class')\n",
    "plt.ylabel('Data points per Class')\n",
    "plt.title('Distribution of yi in test data')\n",
    "plt.grid()\n",
    "plt.show()\n",
    "\n",
    "# ref: argsort https://docs.scipy.org/doc/numpy/reference/generated/numpy.argsort.html\n",
    "# -(train_class_distribution.values): the minus sign will give us in decreasing order\n",
    "sorted_yi = np.argsort(-test_class_distribution.values)\n",
    "for i in sorted_yi:\n",
    "    print('Number of data points in class', i+1, ':',test_class_distribution.values[i], '(', np.round((test_class_distribution.values[i]/test_df.shape[0]*100), 3), '%)')\n",
    "\n",
    "print('-'*80)\n",
    "my_colors = 'rgbkymc'\n",
    "cv_class_distribution.plot(kind='bar')\n",
    "plt.xlabel('Class')\n",
    "plt.ylabel('Data points per Class')\n",
    "plt.title('Distribution of yi in cross validation data')\n",
    "plt.grid()\n",
    "plt.show()\n",
    "\n",
    "# ref: argsort https://docs.scipy.org/doc/numpy/reference/generated/numpy.argsort.html\n",
    "# -(train_class_distribution.values): the minus sign will give us in decreasing order\n",
    "sorted_yi = np.argsort(-train_class_distribution.values)\n",
    "for i in sorted_yi:\n",
    "    print('Number of data points in class', i+1, ':',cv_class_distribution.values[i], '(', np.round((cv_class_distribution.values[i]/cv_df.shape[0]*100), 3), '%)')\n"
   ]
  },
  {
   "cell_type": "markdown",
   "metadata": {
    "id": "j0VVGc0_OQuu"
   },
   "source": [
    "<h3>Exploratory Data Analysis</h3>"
   ]
  },
  {
   "cell_type": "markdown",
   "metadata": {
    "id": "kSO9RztaOQvw",
    "tags": []
   },
   "source": [
    "<h4>3.2 Prediction using a 'Random' Model</h4>"
   ]
  },
  {
   "cell_type": "code",
   "execution_count": 15,
   "metadata": {
    "id": "9quvnOcWOQvx"
   },
   "outputs": [],
   "source": [
    "# This function plots the confusion matrices given y_i, y_i_hat.\n",
    "def plot_confusion_matrix(test_y, predict_y):\n",
    "    C = confusion_matrix(test_y, predict_y)\n",
    "    # C = 9,9 matrix, each cell (i,j) represents number of points of class i are predicted class j\n",
    "    \n",
    "    A =(((C.T)/(C.sum(axis=1))).T)\n",
    "    #divid each element of the confusion matrix with the sum of elements in that column\n",
    "    \n",
    "    # C = [[1, 2],\n",
    "    #     [3, 4]]\n",
    "    # C.T = [[1, 3],\n",
    "    #        [2, 4]]\n",
    "    # C.sum(axis = 1)  axis=0 corresonds to columns and axis=1 corresponds to rows in two diamensional array\n",
    "    # C.sum(axix =1) = [[3, 7]]\n",
    "    # ((C.T)/(C.sum(axis=1))) = [[1/3, 3/7]\n",
    "    #                           [2/3, 4/7]]\n",
    "\n",
    "    # ((C.T)/(C.sum(axis=1))).T = [[1/3, 2/3]\n",
    "    #                           [3/7, 4/7]]\n",
    "    # sum of row elements = 1\n",
    "    \n",
    "    B =(C/C.sum(axis=0))\n",
    "    #divid each element of the confusion matrix with the sum of elements in that row\n",
    "    # C = [[1, 2],\n",
    "    #     [3, 4]]\n",
    "    # C.sum(axis = 0)  axis=0 corresonds to columns and axis=1 corresponds to rows in two diamensional array\n",
    "    # C.sum(axix =0) = [[4, 6]]\n",
    "    # (C/C.sum(axis=0)) = [[1/4, 2/6],\n",
    "    #                      [3/4, 4/6]] \n",
    "    \n",
    "    labels = [1,2,3,4,5,6,7,8,9]\n",
    "    # representing A in heatmap format\n",
    "    print(\"-\"*20, \"Confusion matrix\", \"-\"*20)\n",
    "    plt.figure(figsize=(20,7))\n",
    "    sns.heatmap(C, annot=True, cmap=\"YlGnBu\", fmt=\".3f\", xticklabels=labels, yticklabels=labels)\n",
    "    plt.xlabel('Predicted Class')\n",
    "    plt.ylabel('Original Class')\n",
    "    plt.show()\n",
    "\n",
    "    print(\"-\"*20, \"Precision matrix (Columm Sum=1)\", \"-\"*20)\n",
    "    plt.figure(figsize=(20,7))\n",
    "    sns.heatmap(B, annot=True, cmap=\"YlGnBu\", fmt=\".3f\", xticklabels=labels, yticklabels=labels)\n",
    "    plt.xlabel('Predicted Class')\n",
    "    plt.ylabel('Original Class')\n",
    "    plt.show()\n",
    "    \n",
    "    # representing B in heatmap format\n",
    "    print(\"-\"*20, \"Recall matrix (Row sum=1)\", \"-\"*20)\n",
    "    plt.figure(figsize=(20,7))\n",
    "    sns.heatmap(A, annot=True, cmap=\"YlGnBu\", fmt=\".3f\", xticklabels=labels, yticklabels=labels)\n",
    "    plt.xlabel('Predicted Class')\n",
    "    plt.ylabel('Original Class')\n",
    "    plt.show()"
   ]
  },
  {
   "cell_type": "markdown",
   "metadata": {
    "id": "B7eBGtKAOQvw"
   },
   "source": [
    "<p style=\"font-size:16px\"> In a 'Random' Model, we generate the NINE class probabilites randomly such that they sum to 1. </p>"
   ]
  },
  {
   "cell_type": "code",
   "execution_count": 16,
   "metadata": {
    "colab": {
     "base_uri": "https://localhost:8080/",
     "height": 1000
    },
    "id": "VsR6cgBqOQvz",
    "outputId": "a1199718-7ef5-4600-d94e-2ca2989ba30c"
   },
   "outputs": [
    {
     "name": "stdout",
     "output_type": "stream",
     "text": [
      "Log loss on Cross Validation Data using Random Model 2.450964298929681\n",
      "Log loss on Test Data using Random Model 2.5194404639993384\n",
      "-------------------- Confusion matrix --------------------\n"
     ]
    },
    {
     "data": {
      "image/png": "[encoded data removed]",
      "text/plain": [
       "<Figure size 1440x504 with 2 Axes>"
      ]
     },
     "metadata": {
      "needs_background": "light"
     },
     "output_type": "display_data"
    },
    {
     "name": "stdout",
     "output_type": "stream",
     "text": [
      "-------------------- Precision matrix (Columm Sum=1) --------------------\n"
     ]
    },
    {
     "data": {
      "image/png": "[encoded data removed]",
      "text/plain": [
       "<Figure size 1440x504 with 2 Axes>"
      ]
     },
     "metadata": {
      "needs_background": "light"
     },
     "output_type": "display_data"
    },
    {
     "name": "stdout",
     "output_type": "stream",
     "text": [
      "-------------------- Recall matrix (Row sum=1) --------------------\n"
     ]
    },
    {
     "data": {
      "image/png": "[encoded data removed]",
      "text/plain": [
       "<Figure size 1440x504 with 2 Axes>"
      ]
     },
     "metadata": {
      "needs_background": "light"
     },
     "output_type": "display_data"
    }
   ],
   "source": [
    "# we need to generate 9 numbers and the sum of numbers should be 1\n",
    "# one solution is to genarate 9 numbers and divide each of the numbers by their sum\n",
    "# ref: https://stackoverflow.com/a/18662466/4084039\n",
    "test_data_len = test_df.shape[0]\n",
    "cv_data_len = cv_df.shape[0]\n",
    "\n",
    "# we create a output array that has exactly same size as the CV data\n",
    "cv_predicted_y = np.zeros((cv_data_len,9))\n",
    "for i in range(cv_data_len):\n",
    "    rand_probs = np.random.rand(1,9)\n",
    "    cv_predicted_y[i] = ((rand_probs/sum(sum(rand_probs)))[0])\n",
    "print(\"Log loss on Cross Validation Data using Random Model\",log_loss(y_cv,cv_predicted_y, eps=1e-15))\n",
    "\n",
    "\n",
    "# Test-Set error.\n",
    "#we create a output array that has exactly same as the test data\n",
    "test_predicted_y = np.zeros((test_data_len,9))\n",
    "for i in range(test_data_len):\n",
    "    rand_probs = np.random.rand(1,9)\n",
    "    test_predicted_y[i] = ((rand_probs/sum(sum(rand_probs)))[0])\n",
    "print(\"Log loss on Test Data using Random Model\",log_loss(y_test,test_predicted_y, eps=1e-15))\n",
    "\n",
    "predicted_y =np.argmax(test_predicted_y, axis=1)\n",
    "plot_confusion_matrix(y_test, predicted_y+1)"
   ]
  },
  {
   "cell_type": "markdown",
   "metadata": {
    "id": "tIy5AKY7OQv2"
   },
   "source": [
    "<h4>3.3 Univariate Analysis</h4>"
   ]
  },
  {
   "cell_type": "code",
   "execution_count": 17,
   "metadata": {
    "id": "glsAAhozOQv3"
   },
   "outputs": [],
   "source": [
    "# get_gv_fea_dict: Get Gene varaition Feature Dict\n",
    "def get_gv_fea_dict(alpha, feature, df):\n",
    "    \"\"\"\n",
    "        code for response coding with Laplace smoothing.\n",
    "        alpha : used for laplace smoothing\n",
    "        feature: ['gene', 'variation']\n",
    "        df: ['train_df', 'test_df', 'cv_df']\n",
    "        algorithm\n",
    "        ----------\n",
    "        Consider all unique values and the number of occurances of given feature in train data dataframe\n",
    "        build a vector (1*9), \n",
    "        \n",
    "        the first element = (number of times it occured in class1 + 10*alpha / number of time it occurred in total data+90*alpha)\n",
    "        \n",
    "        gv_dict is like a look up table, for every gene it store a (1*9) representation of it\n",
    "        \n",
    "        for a value of feature in df:\n",
    "            if it is in train data:\n",
    "                we add the vector that was stored in 'gv_dict' look up table to 'gv_fea'\n",
    "            if it is not there is train:\n",
    "                we add [1/9, 1/9, 1/9, 1/9,1/9, 1/9, 1/9, 1/9, 1/9] to 'gv_fea'\n",
    "            return 'gv_fea'\n",
    "        ----------------------\n",
    "    \"\"\"\n",
    "    value_count = train_df[feature].value_counts()\n",
    "    \n",
    "    # gv_dict : Gene Variation Dict, which contains the probability array for each gene/variation\n",
    "    gv_dict = dict()\n",
    "    \n",
    "    # denominator will contain the number of time that particular feature occured in whole data\n",
    "    for i, denominator in value_count.items():\n",
    "        # vec will contain (p(yi==1/Gi) probability of gene/variation belongs to perticular class\n",
    "        # vec is 9 diamensional vector\n",
    "        vec = []\n",
    "        for k in range(1,10):\n",
    "            # print(train_df.loc[(train_df['Class']==1) & (train_df['Gene']=='BRCA1')])\n",
    "            #         ID   Gene             Variation  Class  \n",
    "            # 2470  2470  BRCA1                S1715C      1   \n",
    "            # cls_cnt.shape[0] will return the number of rows\n",
    "\n",
    "            cls_cnt = train_df.loc[(train_df['Class']==k) & (train_df[feature]==i)]\n",
    "            \n",
    "            # cls_cnt.shape[0](numerator) will contain the number of time that particular feature occured in whole data\n",
    "            # when we caculate the probability of a feature belongs to any particular class, \n",
    "            # we apply laplace smoothing = (numerator + 10*alpha) / (denominator + 90*alpha)\n",
    "            vec.append((cls_cnt.shape[0] + alpha*10)/ (denominator + 90*alpha))\n",
    "\n",
    "        # we are adding the gene/variation to the dict as key and vec as value\n",
    "        gv_dict[i]=vec\n",
    "    return gv_dict\n",
    "\n",
    "# Get Gene variation feature\n",
    "def get_gv_feature(alpha, feature, df):\n",
    "    # print(gv_dict)\n",
    "    #     {'BRCA1': [0.20075757575757575, 0.03787878787878788, 0.068181818181818177, 0.13636363636363635, 0.25, 0.19318181818181818, 0.03787878787878788, 0.03787878787878788, 0.03787878787878788], \n",
    "    #      ...\n",
    "    #     }\n",
    "    gv_dict = get_gv_fea_dict(alpha, feature, df)\n",
    "    # value_count is similar in get_gv_fea_dict\n",
    "    value_count = train_df[feature].value_counts()\n",
    "    \n",
    "    # gv_fea: Gene_variation feature, it will contain the feature for each feature value in the data\n",
    "    gv_fea = []\n",
    "    # for every feature values in the given data frame we will check if it is there in the train data then we will add the feature to gv_fea\n",
    "    # if not we will add [1/9,1/9,1/9,1/9,1/9,1/9,1/9,1/9,1/9] to gv_fea\n",
    "    for index, row in df.iterrows():\n",
    "        if row[feature] in dict(value_count).keys():\n",
    "            gv_fea.append(gv_dict[row[feature]])\n",
    "        else:\n",
    "            gv_fea.append([1/9,1/9,1/9,1/9,1/9,1/9,1/9,1/9,1/9])\n",
    "#             gv_fea.append([-1,-1,-1,-1,-1,-1,-1,-1,-1])\n",
    "    return gv_fea"
   ]
  },
  {
   "cell_type": "markdown",
   "metadata": {
    "id": "ShBOxDTyOQv5"
   },
   "source": []
  },
  {
   "cell_type": "markdown",
   "metadata": {
    "id": "Burwv7NcOQv6"
   },
   "source": [
    "<h5>3.2.1 Univariate Analysis on Gene Feature</h5>"
   ]
  },
  {
   "cell_type": "markdown",
   "metadata": {
    "id": "xvrxgsHNOQv7"
   },
   "source": [
    "1. How many categories are there and How they are distributed?\n",
    "\n",
    "Ans: There are 229 different categories of genes in the train data, and they are distibuted as follows"
   ]
  },
  {
   "cell_type": "code",
   "execution_count": 18,
   "metadata": {
    "colab": {
     "base_uri": "https://localhost:8080/"
    },
    "id": "r4VErpbnOQv8",
    "outputId": "08471e63-968d-46d5-eb08-9225fdbf5eb7"
   },
   "outputs": [
    {
     "name": "stdout",
     "output_type": "stream",
     "text": [
      "Number of Unique Genes : 232\n",
      "BRCA1     165\n",
      "TP53      103\n",
      "EGFR       94\n",
      "PTEN       87\n",
      "BRCA2      83\n",
      "KIT        65\n",
      "BRAF       59\n",
      "ALK        49\n",
      "PDGFRA     45\n",
      "ERBB2      41\n",
      "Name: Gene, dtype: int64\n"
     ]
    }
   ],
   "source": [
    "unique_genes = train_df['Gene'].value_counts()\n",
    "print('Number of Unique Genes :', unique_genes.shape[0])\n",
    "# the top 10 genes that occured most\n",
    "print(unique_genes.head(10))"
   ]
  },
  {
   "cell_type": "code",
   "execution_count": 19,
   "metadata": {
    "colab": {
     "base_uri": "https://localhost:8080/"
    },
    "id": "T5cMcwH-OQwD",
    "outputId": "ec083a92-a8a9-4896-8031-0a1b1abd0197",
    "scrolled": true
   },
   "outputs": [
    {
     "name": "stdout",
     "output_type": "stream",
     "text": [
      "Ans: There are 232 different categories of genes in the train data, and they are distibuted as follows\n"
     ]
    }
   ],
   "source": [
    "print(\"Ans: There are\", unique_genes.shape[0] ,\"different categories of genes in the train data, and they are distibuted as follows\",)"
   ]
  },
  {
   "cell_type": "code",
   "execution_count": 20,
   "metadata": {
    "colab": {
     "base_uri": "https://localhost:8080/",
     "height": 279
    },
    "id": "94tkkWJFOQwK",
    "outputId": "c412a02c-5e14-4de2-f05f-e637f98be38c"
   },
   "outputs": [
    {
     "data": {
      "image/png": "[encoded data removed]",
      "text/plain": [
       "<Figure size 432x288 with 1 Axes>"
      ]
     },
     "metadata": {
      "needs_background": "light"
     },
     "output_type": "display_data"
    }
   ],
   "source": [
    "s = sum(unique_genes.values);\n",
    "h = unique_genes.values/s;\n",
    "plt.plot(h, label=\"Histrogram of Genes\")\n",
    "plt.xlabel('Index of a Gene')\n",
    "plt.ylabel('Number of Occurances')\n",
    "plt.legend()\n",
    "plt.grid()\n",
    "plt.show()\n"
   ]
  },
  {
   "cell_type": "code",
   "execution_count": 21,
   "metadata": {
    "colab": {
     "base_uri": "https://localhost:8080/",
     "height": 265
    },
    "id": "GSYysPfLOQwP",
    "outputId": "7032ced9-d652-416d-d9db-d063b762aca3"
   },
   "outputs": [
    {
     "data": {
      "image/png": "[encoded data removed]",
      "text/plain": [
       "<Figure size 432x288 with 1 Axes>"
      ]
     },
     "metadata": {
      "needs_background": "light"
     },
     "output_type": "display_data"
    }
   ],
   "source": [
    "c = np.cumsum(h)\n",
    "plt.plot(c,label='Cumulative distribution of Genes')\n",
    "plt.grid()\n",
    "plt.legend()\n",
    "plt.show()"
   ]
  },
  {
   "cell_type": "markdown",
   "metadata": {
    "id": "KA0msTHPOQwT"
   },
   "source": [
    "2. How to featurize this Gene feature ?\n",
    "\n",
    "Ans. there are two ways we can featurize this variable\n",
    "<ol><li>One hot Encoding</li><li>Response coding</li></ol></p>\n",
    "<p> We will choose the appropriate featurization based on the ML model we use.  For this problem of multi-class classification with categorical features, one-hot encoding is better for Logistic regression while response coding is better for Random Forests. </p>"
   ]
  },
  {
   "cell_type": "code",
   "execution_count": 22,
   "metadata": {
    "id": "TcsbuDqcOQwU"
   },
   "outputs": [],
   "source": [
    "#response-coding of the Gene feature\n",
    "# alpha is used for laplace smoothing\n",
    "alpha = 1\n",
    "# train gene feature\n",
    "train_gene_feature_responseCoding = np.array(get_gv_feature(alpha, \"Gene\", train_df))\n",
    "# test gene feature\n",
    "test_gene_feature_responseCoding = np.array(get_gv_feature(alpha, \"Gene\", test_df))\n",
    "# cross validation gene feature\n",
    "cv_gene_feature_responseCoding = np.array(get_gv_feature(alpha, \"Gene\", cv_df))"
   ]
  },
  {
   "cell_type": "code",
   "execution_count": 23,
   "metadata": {
    "colab": {
     "base_uri": "https://localhost:8080/"
    },
    "id": "CejFANCDOQwb",
    "outputId": "41e499d6-fff4-40a8-ef82-ab398191a855"
   },
   "outputs": [
    {
     "name": "stdout",
     "output_type": "stream",
     "text": [
      "train_gene_feature_responseCoding is converted feature using respone coding method. The shape of gene feature: (2124, 9)\n"
     ]
    }
   ],
   "source": [
    "print(\"train_gene_feature_responseCoding is converted feature using respone coding method. The shape of gene feature:\", train_gene_feature_responseCoding.shape)"
   ]
  },
  {
   "cell_type": "code",
   "execution_count": 24,
   "metadata": {
    "id": "7TiLWR3LOQwq"
   },
   "outputs": [],
   "source": [
    "# one-hot encoding of Gene feature.\n",
    "gene_vectorizer = CountVectorizer()\n",
    "train_gene_feature_onehotCoding = gene_vectorizer.fit_transform(train_df['Gene'])\n",
    "test_gene_feature_onehotCoding = gene_vectorizer.transform(test_df['Gene'])\n",
    "cv_gene_feature_onehotCoding = gene_vectorizer.transform(cv_df['Gene'])"
   ]
  },
  {
   "cell_type": "code",
   "execution_count": 25,
   "metadata": {
    "colab": {
     "base_uri": "https://localhost:8080/"
    },
    "id": "foYJ4tJnOQwt",
    "outputId": "3d5e4b6b-67f0-4274-bb38-2806b12d7d6a"
   },
   "outputs": [
    {
     "data": {
      "text/plain": [
       "2447    BRCA1\n",
       "2718     BRAF\n",
       "796     ERBB4\n",
       "1710     POLE\n",
       "345      CDH1\n",
       "Name: Gene, dtype: object"
      ]
     },
     "execution_count": 25,
     "metadata": {},
     "output_type": "execute_result"
    }
   ],
   "source": [
    "train_df['Gene'].head()"
   ]
  },
  {
   "cell_type": "code",
   "execution_count": 26,
   "metadata": {
    "colab": {
     "base_uri": "https://localhost:8080/"
    },
    "id": "7aohGapoOQwx",
    "outputId": "b5e6429a-4ec6-49dd-aa1e-112bd8dee58d"
   },
   "outputs": [
    {
     "data": {
      "text/plain": [
       "array(['abl1', 'ago2', 'akt1', 'akt2', 'akt3', 'alk', 'apc', 'ar', 'araf',\n",
       "       'arid1a', 'arid1b', 'arid2', 'arid5b', 'asxl2', 'atm', 'atr',\n",
       "       'atrx', 'aurka', 'axl', 'b2m', 'bap1', 'bard1', 'bcl10', 'bcl2',\n",
       "       'bcor', 'braf', 'brca1', 'brca2', 'brd4', 'brip1', 'btk', 'card11',\n",
       "       'carm1', 'casp8', 'cbl', 'ccnd1', 'ccnd2', 'ccnd3', 'ccne1',\n",
       "       'cdh1', 'cdk12', 'cdk4', 'cdk6', 'cdk8', 'cdkn1a', 'cdkn1b',\n",
       "       'cdkn2a', 'cdkn2b', 'cdkn2c', 'chek2', 'cic', 'crebbp', 'ctcf',\n",
       "       'ctla4', 'ctnnb1', 'ddr2', 'dicer1', 'dnmt3a', 'dnmt3b', 'dusp4',\n",
       "       'egfr', 'elf3', 'ep300', 'epas1', 'epcam', 'erbb2', 'erbb3',\n",
       "       'erbb4', 'ercc2', 'ercc3', 'ercc4', 'erg', 'errfi1', 'esr1',\n",
       "       'etv1', 'etv6', 'ewsr1', 'ezh2', 'fanca', 'fancc', 'fat1', 'fbxw7',\n",
       "       'fgf3', 'fgf4', 'fgfr1', 'fgfr2', 'fgfr3', 'fgfr4', 'flt3',\n",
       "       'foxa1', 'foxl2', 'foxp1', 'gata3', 'gli1', 'gna11', 'gnas',\n",
       "       'h3f3a', 'hnf1a', 'hras', 'idh1', 'idh2', 'igf1r', 'ikbke',\n",
       "       'inpp4b', 'jak1', 'jak2', 'jun', 'kdm5c', 'kdm6a', 'kdr', 'keap1',\n",
       "       'kit', 'kmt2a', 'kmt2b', 'kmt2c', 'kmt2d', 'knstrn', 'kras',\n",
       "       'lats2', 'map2k1', 'map2k2', 'map2k4', 'map3k1', 'mapk1', 'mdm4',\n",
       "       'med12', 'mef2b', 'men1', 'met', 'mga', 'mlh1', 'mpl', 'msh2',\n",
       "       'msh6', 'mtor', 'myc', 'mycn', 'myd88', 'myod1', 'ncor1', 'nf1',\n",
       "       'nf2', 'nfe2l2', 'nfkbia', 'nkx2', 'notch1', 'notch2', 'npm1',\n",
       "       'nras', 'nsd1', 'ntrk1', 'ntrk3', 'nup93', 'pax8', 'pbrm1',\n",
       "       'pdgfra', 'pdgfrb', 'pik3ca', 'pik3cb', 'pik3cd', 'pik3r1',\n",
       "       'pik3r2', 'pik3r3', 'pim1', 'pms2', 'pole', 'ppm1d', 'ppp2r1a',\n",
       "       'ppp6c', 'prdm1', 'ptch1', 'pten', 'ptpn11', 'ptprd', 'ptprt',\n",
       "       'rab35', 'rac1', 'rad21', 'rad50', 'rad51b', 'rad51c', 'rad51d',\n",
       "       'rad54l', 'raf1', 'rara', 'rasa1', 'rb1', 'rbm10', 'ret', 'rheb',\n",
       "       'rhoa', 'rictor', 'rit1', 'rnf43', 'ros1', 'runx1', 'rxra', 'sdhb',\n",
       "       'sdhc', 'setd2', 'sf3b1', 'shoc2', 'smad2', 'smad3', 'smad4',\n",
       "       'smarca4', 'smo', 'sos1', 'sox9', 'spop', 'src', 'stag2', 'stat3',\n",
       "       'stk11', 'tcf3', 'tert', 'tet1', 'tet2', 'tgfbr1', 'tgfbr2',\n",
       "       'tmprss2', 'tp53', 'tp53bp1', 'tsc1', 'tsc2', 'u2af1', 'vegfa',\n",
       "       'vhl', 'whsc1l1', 'xpo1', 'xrcc2', 'yap1'], dtype=object)"
      ]
     },
     "execution_count": 26,
     "metadata": {},
     "output_type": "execute_result"
    }
   ],
   "source": [
    "gene_vectorizer.get_feature_names_out()"
   ]
  },
  {
   "cell_type": "code",
   "execution_count": 27,
   "metadata": {
    "colab": {
     "base_uri": "https://localhost:8080/"
    },
    "id": "RnMPvg4OOQw0",
    "outputId": "75b711fc-6084-4c71-d6da-806513b178e3"
   },
   "outputs": [
    {
     "name": "stdout",
     "output_type": "stream",
     "text": [
      "train_gene_feature_onehotCoding is converted feature using one-hot encoding method. The shape of gene feature: (2124, 232)\n"
     ]
    }
   ],
   "source": [
    "print(\"train_gene_feature_onehotCoding is converted feature using one-hot encoding method. The shape of gene feature:\", train_gene_feature_onehotCoding.shape)"
   ]
  },
  {
   "cell_type": "markdown",
   "metadata": {
    "id": "dKDkc6TeOQw-"
   },
   "source": [
    "3. How good is this gene feature  in predicting Class?\n",
    "\n",
    "<li>There are many ways to estimate how good a feature is, in predicting Class values. One of the good methods is to build a proper ML model using just this feature. In this case, we will build a logistic regression model using only Gene feature (one hot encoded) to predict Class values.</li>"
   ]
  },
  {
   "cell_type": "code",
   "execution_count": 28,
   "metadata": {
    "colab": {
     "base_uri": "https://localhost:8080/",
     "height": 451
    },
    "id": "3lcCW-oEOQxA",
    "outputId": "276d2b18-b8dd-430a-f36a-7a1c4034dbd7"
   },
   "outputs": [
    {
     "name": "stdout",
     "output_type": "stream",
     "text": [
      "For values of alpha =  1e-05 The log loss is: 1.18188418614008\n",
      "For values of alpha =  0.0001 The log loss is: 1.156662655182175\n",
      "For values of alpha =  0.001 The log loss is: 1.1930204340656967\n",
      "For values of alpha =  0.01 The log loss is: 1.3103079367556014\n",
      "For values of alpha =  0.1 The log loss is: 1.4248968159958058\n",
      "For values of alpha =  1 The log loss is: 1.4633842405045299\n"
     ]
    },
    {
     "data": {
      "image/png": "[encoded data removed]",
      "text/plain": [
       "<Figure size 432x288 with 1 Axes>"
      ]
     },
     "metadata": {
      "needs_background": "light"
     },
     "output_type": "display_data"
    },
    {
     "name": "stdout",
     "output_type": "stream",
     "text": [
      "For values of best alpha =  0.0001 The train log loss is: 0.9863460569021284\n",
      "For values of best alpha =  0.0001 The cross validation log loss is: 1.156662655182175\n",
      "For values of best alpha =  0.0001 The test log loss is: 1.2388468155316459\n"
     ]
    }
   ],
   "source": [
    "alpha = [10 ** x for x in range(-5, 1)] # hyperparam for SGD classifier.\n",
    "\n",
    "# Refer: http://scikit-learn.org/stable/modules/generated/sklearn.linear_model.SGDClassifier.html\n",
    "cv_log_error_array=[]\n",
    "for i in alpha:\n",
    "    clf = SGDClassifier(alpha=i, penalty='l2', loss='log_loss', random_state=random_state)\n",
    "    clf.fit(train_gene_feature_onehotCoding, y_train)\n",
    "    sig_clf = CalibratedClassifierCV(clf, method=\"sigmoid\")\n",
    "    sig_clf.fit(train_gene_feature_onehotCoding, y_train)\n",
    "    predict_y = sig_clf.predict_proba(cv_gene_feature_onehotCoding)\n",
    "    cv_log_error_array.append(log_loss(y_cv, predict_y, labels=clf.classes_, eps=1e-15))\n",
    "    print('For values of alpha = ', i, \"The log loss is:\",log_loss(y_cv, predict_y, labels=clf.classes_, eps=1e-15))\n",
    "\n",
    "fig, ax = plt.subplots()\n",
    "ax.plot(alpha, cv_log_error_array,c='g')\n",
    "for i, txt in enumerate(np.round(cv_log_error_array,3)):\n",
    "    ax.annotate((alpha[i],np.round(txt,3)), (alpha[i],cv_log_error_array[i]))\n",
    "plt.grid()\n",
    "plt.title(\"Cross Validation Error for each alpha\")\n",
    "plt.xlabel(\"Alpha i's\")\n",
    "plt.ylabel(\"Error measure\")\n",
    "plt.show()\n",
    "\n",
    "\n",
    "best_alpha = np.argmin(cv_log_error_array)\n",
    "clf = SGDClassifier(alpha=alpha[best_alpha], penalty='l2', loss='log_loss', random_state=random_state)\n",
    "clf.fit(train_gene_feature_onehotCoding, y_train)\n",
    "sig_clf = CalibratedClassifierCV(clf, method=\"sigmoid\")\n",
    "sig_clf.fit(train_gene_feature_onehotCoding, y_train)\n",
    "\n",
    "predict_y = sig_clf.predict_proba(train_gene_feature_onehotCoding)\n",
    "print('For values of best alpha = ', alpha[best_alpha], \"The train log loss is:\",log_loss(y_train, predict_y, labels=clf.classes_, eps=1e-15))\n",
    "predict_y = sig_clf.predict_proba(cv_gene_feature_onehotCoding)\n",
    "print('For values of best alpha = ', alpha[best_alpha], \"The cross validation log loss is:\",log_loss(y_cv, predict_y, labels=clf.classes_, eps=1e-15))\n",
    "predict_y = sig_clf.predict_proba(test_gene_feature_onehotCoding)\n",
    "print('For values of best alpha = ', alpha[best_alpha], \"The test log loss is:\",log_loss(y_test, predict_y, labels=clf.classes_, eps=1e-15))\n"
   ]
  },
  {
   "cell_type": "markdown",
   "metadata": {
    "id": "AZjuFgxwOQxE"
   },
   "source": [
    "4. Is the Gene feature stable across all the data sets (Test, Train, Cross validation)?\n",
    "\n",
    "Ans. Yes, it is. Otherwise, the CV and Test errors would be significantly more than train error. "
   ]
  },
  {
   "cell_type": "code",
   "execution_count": 29,
   "metadata": {
    "colab": {
     "base_uri": "https://localhost:8080/"
    },
    "id": "PjY8VwyuOQxK",
    "outputId": "74bc3fa1-a737-444c-b22f-7ce999de44de"
   },
   "outputs": [
    {
     "name": "stdout",
     "output_type": "stream",
     "text": [
      "Q6. How many data points in Test and CV datasets are covered by the  232  genes in train dataset?\n",
      "Ans\n",
      "1. In test data 640 out of 665 : 96.2406015037594\n",
      "2. In cross validation data 518 out of  532 : 97.36842105263158\n"
     ]
    }
   ],
   "source": [
    "print(\"Q6. How many data points in Test and CV datasets are covered by the \", unique_genes.shape[0], \" genes in train dataset?\")\n",
    "\n",
    "test_coverage=test_df[test_df['Gene'].isin(list(set(train_df['Gene'])))].shape[0]\n",
    "cv_coverage=cv_df[cv_df['Gene'].isin(list(set(train_df['Gene'])))].shape[0]\n",
    "\n",
    "print('Ans\\n1. In test data',test_coverage, 'out of',test_df.shape[0], \":\",(test_coverage/test_df.shape[0])*100)\n",
    "print('2. In cross validation data',cv_coverage, 'out of ',cv_df.shape[0],\":\" ,(cv_coverage/cv_df.shape[0])*100)"
   ]
  },
  {
   "cell_type": "markdown",
   "metadata": {
    "id": "GZ8dUhbbOQxN"
   },
   "source": [
    "<h5>3.2.2 Univariate Analysis on Variation Feature</h5>"
   ]
  },
  {
   "cell_type": "markdown",
   "metadata": {
    "id": "ZH8TKwYjOQxO"
   },
   "source": [
    "1. How many categories are there?"
   ]
  },
  {
   "cell_type": "code",
   "execution_count": 30,
   "metadata": {
    "colab": {
     "base_uri": "https://localhost:8080/"
    },
    "id": "ipBDKwsoOQxP",
    "outputId": "c422688a-34dd-4ffc-d09f-6038f40548d9"
   },
   "outputs": [
    {
     "name": "stdout",
     "output_type": "stream",
     "text": [
      "Number of Unique Variations : 1925\n",
      "Truncating_Mutations    59\n",
      "Amplification           52\n",
      "Deletion                49\n",
      "Fusions                 21\n",
      "Overexpression           3\n",
      "Q61R                     3\n",
      "P34R                     2\n",
      "E542K                    2\n",
      "F384L                    2\n",
      "Y42C                     2\n",
      "Name: Variation, dtype: int64\n"
     ]
    }
   ],
   "source": [
    "unique_variations = train_df['Variation'].value_counts()\n",
    "print('Number of Unique Variations :', unique_variations.shape[0])\n",
    "# the top 10 variations that occured most\n",
    "print(unique_variations.head(10))"
   ]
  },
  {
   "cell_type": "code",
   "execution_count": 31,
   "metadata": {
    "colab": {
     "base_uri": "https://localhost:8080/"
    },
    "id": "K9wWS-NYOQxV",
    "outputId": "fc2a6c65-a485-4d37-a252-8e23027b342d",
    "scrolled": true
   },
   "outputs": [
    {
     "name": "stdout",
     "output_type": "stream",
     "text": [
      "Ans: There are 1925 different categories of variations in the train data, and they are distibuted as follows\n"
     ]
    }
   ],
   "source": [
    "print(\"Ans: There are\", unique_variations.shape[0] ,\"different categories of variations in the train data, and they are distibuted as follows\",)"
   ]
  },
  {
   "cell_type": "code",
   "execution_count": 32,
   "metadata": {
    "colab": {
     "base_uri": "https://localhost:8080/",
     "height": 282
    },
    "id": "B7NmwrkpOQxk",
    "outputId": "90aec7cd-665e-4341-c1a3-e259da620dfc"
   },
   "outputs": [
    {
     "data": {
      "image/png": "[encoded data removed]",
      "text/plain": [
       "<Figure size 432x288 with 1 Axes>"
      ]
     },
     "metadata": {
      "needs_background": "light"
     },
     "output_type": "display_data"
    }
   ],
   "source": [
    "s = sum(unique_variations.values);\n",
    "h = unique_variations.values/s;\n",
    "plt.plot(h, label=\"Histrogram of Variations\")\n",
    "plt.xlabel('Index of a Variation')\n",
    "plt.ylabel('Number of Occurances')\n",
    "plt.legend()\n",
    "plt.grid()\n",
    "plt.show()"
   ]
  },
  {
   "cell_type": "code",
   "execution_count": 33,
   "metadata": {
    "colab": {
     "base_uri": "https://localhost:8080/",
     "height": 282
    },
    "id": "9sWC9-MXOQxo",
    "outputId": "c8b6ec14-5e08-4b54-f56e-31a014923e3f"
   },
   "outputs": [
    {
     "name": "stdout",
     "output_type": "stream",
     "text": [
      "[0.02777778 0.05225989 0.07532957 ... 0.99905838 0.99952919 1.        ]\n"
     ]
    },
    {
     "data": {
      "image/png": "[encoded data removed]",
      "text/plain": [
       "<Figure size 432x288 with 1 Axes>"
      ]
     },
     "metadata": {
      "needs_background": "light"
     },
     "output_type": "display_data"
    }
   ],
   "source": [
    "c = np.cumsum(h)\n",
    "print(c)\n",
    "plt.plot(c,label='Cumulative distribution of Variations')\n",
    "plt.grid()\n",
    "plt.legend()\n",
    "plt.show()"
   ]
  },
  {
   "cell_type": "markdown",
   "metadata": {
    "id": "e_jKtHYZOQxt"
   },
   "source": [
    "2. How to featurize this Variation feature ?\n",
    "\n",
    "Ans. There are two ways we can featurize this variable\n",
    "<ol><li>One hot Encoding</li><li>Response coding</li></ol></p>"
   ]
  },
  {
   "cell_type": "code",
   "execution_count": 34,
   "metadata": {
    "id": "3FG82Rp2OQxt"
   },
   "outputs": [],
   "source": [
    "# alpha is used for laplace smoothing\n",
    "alpha = 1\n",
    "# train gene feature\n",
    "train_variation_feature_responseCoding = np.array(get_gv_feature(alpha, \"Variation\", train_df))\n",
    "# test gene feature\n",
    "test_variation_feature_responseCoding = np.array(get_gv_feature(alpha, \"Variation\", test_df))\n",
    "# cross validation gene feature\n",
    "cv_variation_feature_responseCoding = np.array(get_gv_feature(alpha, \"Variation\", cv_df))"
   ]
  },
  {
   "cell_type": "code",
   "execution_count": 35,
   "metadata": {
    "colab": {
     "base_uri": "https://localhost:8080/"
    },
    "id": "FETgZxHEOQxw",
    "outputId": "ddddd97b-afd8-478d-c69f-7e44cd1392f5"
   },
   "outputs": [
    {
     "name": "stdout",
     "output_type": "stream",
     "text": [
      "train_variation_feature_responseCoding is a converted feature using the response coding method. The shape of Variation feature: (2124, 9)\n"
     ]
    }
   ],
   "source": [
    "print(\"train_variation_feature_responseCoding is a converted feature using the response coding method. The shape of Variation feature:\", train_variation_feature_responseCoding.shape)"
   ]
  },
  {
   "cell_type": "code",
   "execution_count": 36,
   "metadata": {
    "id": "ruAYi3HwOQxy"
   },
   "outputs": [],
   "source": [
    "# one-hot encoding of variation feature.\n",
    "variation_vectorizer = CountVectorizer()\n",
    "train_variation_feature_onehotCoding = variation_vectorizer.fit_transform(train_df['Variation'])\n",
    "test_variation_feature_onehotCoding = variation_vectorizer.transform(test_df['Variation'])\n",
    "cv_variation_feature_onehotCoding = variation_vectorizer.transform(cv_df['Variation'])"
   ]
  },
  {
   "cell_type": "code",
   "execution_count": 37,
   "metadata": {
    "colab": {
     "base_uri": "https://localhost:8080/"
    },
    "id": "pUdraWMYOQx3",
    "outputId": "a335cc26-3b8c-4a37-a824-09e651c91d16"
   },
   "outputs": [
    {
     "name": "stdout",
     "output_type": "stream",
     "text": [
      "train_variation_feature_onehotEncoded is converted feature using the onne-hot encoding method. The shape of Variation feature: (2124, 1954)\n"
     ]
    }
   ],
   "source": [
    "print(\"train_variation_feature_onehotEncoded is converted feature using the onne-hot encoding method. The shape of Variation feature:\", train_variation_feature_onehotCoding.shape)"
   ]
  },
  {
   "cell_type": "markdown",
   "metadata": {
    "id": "hhg1JfPtOQx7"
   },
   "source": [
    "3. How good is this Variation feature  in predicting Class?"
   ]
  },
  {
   "cell_type": "code",
   "execution_count": 38,
   "metadata": {
    "colab": {
     "base_uri": "https://localhost:8080/",
     "height": 451
    },
    "id": "RDa2yRKfOQx9",
    "outputId": "f2ee7bec-dfa3-4de3-c4c1-92a533fe1216"
   },
   "outputs": [
    {
     "name": "stdout",
     "output_type": "stream",
     "text": [
      "For values of alpha =  1e-05 The log loss is: 1.7006883742126457\n",
      "For values of alpha =  0.0001 The log loss is: 1.695322808366601\n",
      "For values of alpha =  0.001 The log loss is: 1.6951701931786995\n",
      "For values of alpha =  0.01 The log loss is: 1.7004055457183054\n",
      "For values of alpha =  0.1 The log loss is: 1.7093449201246347\n",
      "For values of alpha =  1 The log loss is: 1.7117426813249064\n"
     ]
    },
    {
     "data": {
      "image/png": "[encoded data removed]",
      "text/plain": [
       "<Figure size 432x288 with 1 Axes>"
      ]
     },
     "metadata": {
      "needs_background": "light"
     },
     "output_type": "display_data"
    },
    {
     "name": "stdout",
     "output_type": "stream",
     "text": [
      "For values of best alpha =  0.001 The train log loss is: 1.06239859094768\n",
      "For values of best alpha =  0.001 The cross validation log loss is: 1.6951701931786995\n",
      "For values of best alpha =  0.001 The test log loss is: 1.7277620504246631\n"
     ]
    }
   ],
   "source": [
    "alpha = [10 ** x for x in range(-5, 1)]\n",
    "cv_log_error_array=[]\n",
    "\n",
    "for i in alpha:\n",
    "    clf = SGDClassifier(alpha=i, penalty='l2', loss='log_loss', random_state=random_state)\n",
    "    clf.fit(train_variation_feature_onehotCoding, y_train)\n",
    "    \n",
    "    sig_clf = CalibratedClassifierCV(clf, method=\"sigmoid\")\n",
    "    sig_clf.fit(train_variation_feature_onehotCoding, y_train)\n",
    "    predict_y = sig_clf.predict_proba(cv_variation_feature_onehotCoding)\n",
    "    \n",
    "    cv_log_error_array.append(log_loss(y_cv, predict_y, labels=clf.classes_, eps=1e-15))\n",
    "    print('For values of alpha = ', i, \"The log loss is:\",log_loss(y_cv, predict_y, labels=clf.classes_, eps=1e-15))\n",
    "\n",
    "fig, ax = plt.subplots()\n",
    "ax.plot(alpha, cv_log_error_array,c='g')\n",
    "for i, txt in enumerate(np.round(cv_log_error_array,3)):\n",
    "    ax.annotate((alpha[i],np.round(txt,3)), (alpha[i],cv_log_error_array[i]))\n",
    "plt.grid()\n",
    "plt.title(\"Cross Validation Error for each alpha\")\n",
    "plt.xlabel(\"Alpha i's\")\n",
    "plt.ylabel(\"Error measure\")\n",
    "plt.show()\n",
    "\n",
    "\n",
    "best_alpha = np.argmin(cv_log_error_array)\n",
    "clf = SGDClassifier(alpha=alpha[best_alpha], penalty='l2', loss='log_loss', random_state=random_state)\n",
    "clf.fit(train_variation_feature_onehotCoding, y_train)\n",
    "sig_clf = CalibratedClassifierCV(clf, method=\"sigmoid\")\n",
    "sig_clf.fit(train_variation_feature_onehotCoding, y_train)\n",
    "\n",
    "predict_y = sig_clf.predict_proba(train_variation_feature_onehotCoding)\n",
    "print('For values of best alpha = ', alpha[best_alpha], \"The train log loss is:\",log_loss(y_train, predict_y, labels=clf.classes_, eps=1e-15))\n",
    "predict_y = sig_clf.predict_proba(cv_variation_feature_onehotCoding)\n",
    "print('For values of best alpha = ', alpha[best_alpha], \"The cross validation log loss is:\",log_loss(y_cv, predict_y, labels=clf.classes_, eps=1e-15))\n",
    "predict_y = sig_clf.predict_proba(test_variation_feature_onehotCoding)\n",
    "print('For values of best alpha = ', alpha[best_alpha], \"The test log loss is:\",log_loss(y_test, predict_y, labels=clf.classes_, eps=1e-15))\n"
   ]
  },
  {
   "cell_type": "markdown",
   "metadata": {
    "id": "gO-gq3cFOQyB"
   },
   "source": [
    "4. Is the Variation feature stable across all the data sets (Test, Train, Cross validation)?\n",
    "\n",
    "<p style=\"font-size:16px;\"> <b>Ans.</b> Not sure! But lets be very sure using the below analysis. </p>"
   ]
  },
  {
   "cell_type": "code",
   "execution_count": 39,
   "metadata": {
    "colab": {
     "base_uri": "https://localhost:8080/"
    },
    "id": "pBZ5v2yBOQyB",
    "outputId": "9e6b05a3-066e-478b-b467-110132a4cc3e",
    "scrolled": true
   },
   "outputs": [
    {
     "name": "stdout",
     "output_type": "stream",
     "text": [
      "Q12. How many data points are covered by total  1925  genes in test and cross validation data sets?\n",
      "Ans\n",
      "1. In test data 64 out of 665 : 9.624060150375941\n",
      "2. In cross validation data 55 out of  532 : 10.338345864661653\n"
     ]
    }
   ],
   "source": [
    "print(\"Q12. How many data points are covered by total \", unique_variations.shape[0], \" genes in test and cross validation data sets?\")\n",
    "test_coverage=test_df[test_df['Variation'].isin(list(set(train_df['Variation'])))].shape[0]\n",
    "cv_coverage=cv_df[cv_df['Variation'].isin(list(set(train_df['Variation'])))].shape[0]\n",
    "print('Ans\\n1. In test data',test_coverage, 'out of',test_df.shape[0], \":\",(test_coverage/test_df.shape[0])*100)\n",
    "print('2. In cross validation data',cv_coverage, 'out of ',cv_df.shape[0],\":\" ,(cv_coverage/cv_df.shape[0])*100)"
   ]
  },
  {
   "cell_type": "markdown",
   "metadata": {
    "id": "J87b3_pEOQyE"
   },
   "source": [
    "<h5>3.2.3 Univariate Analysis on Text Feature</h5>"
   ]
  },
  {
   "cell_type": "markdown",
   "metadata": {
    "id": "Go1Lmf9tOQyF"
   },
   "source": [
    "1. How many unique words are present in train data?\n",
    "\n",
    "Ans. Total number of unique words in train data : 52608"
   ]
  },
  {
   "cell_type": "code",
   "execution_count": 40,
   "metadata": {
    "id": "xV59LrzTOQyF"
   },
   "outputs": [],
   "source": [
    "def extract_dictionary_paddle(cls_text):\n",
    "    \"\"\"\n",
    "    Usage: extract_dictionary_paddle(cls_text)\n",
    "    Inputs: cls_text is a data frame\n",
    "    Output: Dictionary\n",
    "    \n",
    "    >>> for every row in data fram consider the 'Text' split the words by space\n",
    "    make a dict with those words increment its count whenever we see that word\n",
    "    \"\"\"\n",
    "    dictionary = defaultdict(int)\n",
    "    for index, row in cls_text.iterrows():\n",
    "        for word in row['Text'].split():\n",
    "            dictionary[word] +=1\n",
    "    return dictionary"
   ]
  },
  {
   "cell_type": "code",
   "execution_count": 41,
   "metadata": {
    "id": "p8Y15a_1OQyH"
   },
   "outputs": [],
   "source": [
    "import math\n",
    "\n",
    "def get_text_responsecoding(df):\n",
    "    \"\"\" https://stackoverflow.com/a/1602964\"\"\"\n",
    "    text_feature_responseCoding = np.zeros((df.shape[0],9))\n",
    "    for i in range(0,9):\n",
    "        row_index = 0\n",
    "        for index, row in df.iterrows():\n",
    "            sum_prob = 0\n",
    "            for word in row['Text'].split():\n",
    "                sum_prob += math.log(((dict_list[i].get(word,0)+10 )/(total_dict.get(word,0)+90)))\n",
    "            text_feature_responseCoding[row_index][i] = math.exp(sum_prob/len(row['Text'].split()))\n",
    "            row_index += 1\n",
    "    return text_feature_responseCoding"
   ]
  },
  {
   "cell_type": "code",
   "execution_count": 42,
   "metadata": {
    "colab": {
     "base_uri": "https://localhost:8080/"
    },
    "id": "FnAaW3teOQyL",
    "outputId": "b75f4528-84fc-40d7-c47b-7e7a4a8e313e"
   },
   "outputs": [
    {
     "name": "stdout",
     "output_type": "stream",
     "text": [
      "Total number of unique words in train data : 52405\n"
     ]
    }
   ],
   "source": [
    "# building a CountVectorizer with all the words that occured minimum 3 times in train data\n",
    "text_vectorizer = CountVectorizer(min_df=3)\n",
    "train_text_feature_onehotCoding = text_vectorizer.fit_transform(train_df['Text'])\n",
    "# getting all the feature names (words)\n",
    "train_text_features= text_vectorizer.get_feature_names()\n",
    "\n",
    "# train_text_feature_onehotCoding.sum(axis=0).A1 will sum every row and returns (1*number of features) vector\n",
    "train_text_fea_counts = train_text_feature_onehotCoding.sum(axis=0).A1\n",
    "\n",
    "# zip(list(text_features),text_fea_counts) will zip a word with its number of times it occured\n",
    "text_fea_dict = dict(zip(list(train_text_features),train_text_fea_counts))\n",
    "\n",
    "print(\"Total number of unique words in train data :\", len(train_text_features))"
   ]
  },
  {
   "cell_type": "code",
   "execution_count": 43,
   "metadata": {
    "id": "lO_CtltnOQyR"
   },
   "outputs": [],
   "source": [
    "dict_list = []\n",
    "# dict_list =[] contains 9 dictoinaries each corresponds to a class\n",
    "for i in range(1,10):\n",
    "    cls_text = train_df[train_df['Class']==i]\n",
    "    # build a word dict based on the words in that class\n",
    "    dict_list.append(extract_dictionary_paddle(cls_text))\n",
    "    # append it to dict_list\n",
    "\n",
    "# dict_list[i] is build on i'th  class text data\n",
    "# total_dict is buid on whole training text data\n",
    "total_dict = extract_dictionary_paddle(train_df)\n",
    "\n",
    "\n",
    "confuse_array = []\n",
    "for i in train_text_features:\n",
    "    ratios = []\n",
    "    max_val = -1\n",
    "    for j in range(0,9):\n",
    "        ratios.append((dict_list[j][i]+10 )/(total_dict[i]+90))\n",
    "    confuse_array.append(ratios)\n",
    "confuse_array = np.array(confuse_array)"
   ]
  },
  {
   "cell_type": "code",
   "execution_count": 44,
   "metadata": {
    "id": "uaI8RUu0OQyU"
   },
   "outputs": [],
   "source": [
    "#response coding of text features\n",
    "train_text_feature_responseCoding  = get_text_responsecoding(train_df)\n",
    "test_text_feature_responseCoding  = get_text_responsecoding(test_df)\n",
    "cv_text_feature_responseCoding  = get_text_responsecoding(cv_df)"
   ]
  },
  {
   "cell_type": "code",
   "execution_count": 45,
   "metadata": {
    "id": "ZYqYSUjoOQyV"
   },
   "outputs": [],
   "source": [
    "# https://stackoverflow.com/a/16202486\n",
    "# we convert each row values such that they sum to 1  \n",
    "train_text_feature_responseCoding = (train_text_feature_responseCoding.T/train_text_feature_responseCoding.sum(axis=1)).T\n",
    "test_text_feature_responseCoding = (test_text_feature_responseCoding.T/test_text_feature_responseCoding.sum(axis=1)).T\n",
    "cv_text_feature_responseCoding = (cv_text_feature_responseCoding.T/cv_text_feature_responseCoding.sum(axis=1)).T"
   ]
  },
  {
   "cell_type": "code",
   "execution_count": 46,
   "metadata": {
    "id": "3UEk7cxGOQyX"
   },
   "outputs": [],
   "source": [
    "# don't forget to normalize every feature\n",
    "train_text_feature_onehotCoding = normalize(train_text_feature_onehotCoding, axis=0)\n",
    "\n",
    "# we use the same vectorizer that was trained on train data\n",
    "test_text_feature_onehotCoding = text_vectorizer.transform(test_df['Text'])\n",
    "# don't forget to normalize every feature\n",
    "test_text_feature_onehotCoding = normalize(test_text_feature_onehotCoding, axis=0)\n",
    "\n",
    "# we use the same vectorizer that was trained on train data\n",
    "cv_text_feature_onehotCoding = text_vectorizer.transform(cv_df['Text'])\n",
    "# don't forget to normalize every feature\n",
    "cv_text_feature_onehotCoding = normalize(cv_text_feature_onehotCoding, axis=0)"
   ]
  },
  {
   "cell_type": "code",
   "execution_count": 47,
   "metadata": {
    "id": "Ox21AjDkOQyZ"
   },
   "outputs": [],
   "source": [
    "#https://stackoverflow.com/a/2258273/4084039\n",
    "sorted_text_fea_dict = dict(sorted(text_fea_dict.items(), key=lambda x: x[1] , reverse=True))\n",
    "sorted_text_occur = np.array(list(sorted_text_fea_dict.values()))"
   ]
  },
  {
   "cell_type": "markdown",
   "metadata": {},
   "source": [
    "2. How are word frequencies distributed?"
   ]
  },
  {
   "cell_type": "code",
   "execution_count": 48,
   "metadata": {
    "colab": {
     "base_uri": "https://localhost:8080/"
    },
    "id": "gT0OrfaTOQyb",
    "outputId": "b1554bac-02d6-4d17-8f69-0117a974b0de"
   },
   "outputs": [
    {
     "name": "stdout",
     "output_type": "stream",
     "text": [
      "Counter({3: 5009, 4: 3392, 6: 2810, 5: 2548, 7: 2336, 9: 2294, 8: 1802, 10: 1398, 12: 1216, 11: 1014, 15: 911, 14: 879, 13: 846, 18: 791, 16: 777, 17: 641, 20: 618, 21: 516, 19: 494, 24: 476, 22: 448, 25: 384, 29: 377, 30: 358, 27: 357, 42: 351, 23: 351, 26: 349, 28: 314, 33: 298, 32: 288, 36: 286, 47: 282, 31: 256, 35: 241, 34: 232, 38: 219, 39: 213, 37: 205, 40: 204, 48: 196, 46: 190, 44: 190, 45: 182, 54: 178, 41: 168, 43: 164, 49: 163, 50: 158, 52: 147, 51: 141, 60: 139, 57: 133, 53: 131, 56: 129, 63: 127, 66: 123, 58: 123, 55: 121, 67: 112, 61: 107, 68: 105, 64: 104, 72: 102, 62: 100, 69: 99, 70: 98, 59: 98, 65: 95, 76: 90, 79: 88, 71: 88, 77: 86, 81: 85, 73: 85, 78: 77, 74: 77, 94: 73, 92: 73, 75: 73, 85: 71, 87: 70, 84: 70, 91: 69, 90: 69, 99: 68, 80: 68, 88: 67, 101: 66, 83: 66, 102: 65, 100: 64, 97: 64, 86: 64, 82: 61, 96: 59, 95: 59, 110: 58, 105: 57, 106: 56, 93: 56, 114: 53, 108: 53, 89: 52, 136: 50, 98: 50, 135: 48, 138: 46, 144: 45, 117: 45, 107: 45, 128: 44, 104: 44, 103: 44, 121: 43, 127: 42, 137: 41, 124: 40, 111: 40, 141: 39, 130: 39, 126: 39, 123: 39, 115: 39, 112: 39, 153: 38, 120: 38, 134: 37, 119: 37, 152: 36, 150: 36, 122: 36, 116: 36, 154: 35, 162: 34, 140: 34, 125: 34, 113: 34, 204: 33, 147: 33, 133: 33, 109: 33, 180: 32, 118: 32, 151: 31, 148: 31, 177: 30, 167: 30, 146: 30, 145: 30, 142: 30, 131: 30, 188: 29, 158: 29, 139: 29, 230: 28, 171: 28, 143: 28, 187: 27, 168: 27, 159: 27, 189: 26, 132: 26, 194: 25, 166: 25, 149: 25, 129: 25, 209: 24, 203: 24, 192: 24, 186: 24, 182: 24, 157: 24, 212: 23, 196: 23, 183: 23, 181: 23, 178: 23, 176: 23, 174: 23, 160: 23, 226: 22, 215: 22, 200: 22, 198: 22, 184: 22, 172: 22, 164: 22, 247: 21, 217: 21, 210: 21, 197: 21, 170: 21, 169: 21, 156: 21, 155: 21, 282: 20, 207: 20, 201: 20, 175: 20, 326: 19, 294: 19, 276: 19, 270: 19, 252: 19, 239: 19, 228: 19, 227: 19, 195: 19, 185: 19, 161: 19, 257: 18, 246: 18, 224: 18, 220: 18, 216: 18, 193: 18, 163: 18, 267: 17, 262: 17, 229: 17, 222: 17, 219: 17, 218: 17, 206: 17, 190: 17, 179: 17, 173: 17, 327: 16, 290: 16, 263: 16, 258: 16, 254: 16, 199: 16, 165: 16, 396: 15, 319: 15, 305: 15, 296: 15, 285: 15, 268: 15, 261: 15, 248: 15, 234: 15, 233: 15, 232: 15, 214: 15, 191: 15, 346: 14, 300: 14, 299: 14, 279: 14, 274: 14, 264: 14, 253: 14, 250: 14, 245: 14, 240: 14, 238: 14, 237: 14, 236: 14, 223: 14, 213: 14, 211: 14, 205: 14, 375: 13, 356: 13, 310: 13, 295: 13, 291: 13, 284: 13, 277: 13, 266: 13, 242: 13, 450: 12, 432: 12, 363: 12, 338: 12, 333: 12, 329: 12, 304: 12, 303: 12, 288: 12, 275: 12, 260: 12, 259: 12, 243: 12, 241: 12, 221: 12, 208: 12, 202: 12, 464: 11, 445: 11, 408: 11, 384: 11, 376: 11, 352: 11, 345: 11, 334: 11, 306: 11, 292: 11, 289: 11, 255: 11, 249: 11, 231: 11, 225: 11, 550: 10, 526: 10, 486: 10, 465: 10, 436: 10, 427: 10, 424: 10, 423: 10, 406: 10, 357: 10, 344: 10, 337: 10, 317: 10, 316: 10, 315: 10, 311: 10, 293: 10, 269: 10, 785: 9, 516: 9, 481: 9, 425: 9, 387: 9, 377: 9, 372: 9, 361: 9, 355: 9, 353: 9, 349: 9, 340: 9, 323: 9, 321: 9, 312: 9, 302: 9, 298: 9, 297: 9, 281: 9, 280: 9, 273: 9, 271: 9, 256: 9, 722: 8, 671: 8, 626: 8, 553: 8, 551: 8, 549: 8, 520: 8, 511: 8, 466: 8, 462: 8, 448: 8, 447: 8, 431: 8, 417: 8, 415: 8, 409: 8, 394: 8, 393: 8, 382: 8, 381: 8, 373: 8, 370: 8, 368: 8, 366: 8, 364: 8, 358: 8, 351: 8, 332: 8, 328: 8, 324: 8, 322: 8, 314: 8, 301: 8, 265: 8, 251: 8, 235: 8, 742: 7, 632: 7, 622: 7, 588: 7, 561: 7, 500: 7, 499: 7, 498: 7, 480: 7, 471: 7, 460: 7, 455: 7, 438: 7, 426: 7, 405: 7, 388: 7, 378: 7, 362: 7, 347: 7, 339: 7, 320: 7, 313: 7, 307: 7, 244: 7, 892: 6, 691: 6, 650: 6, 627: 6, 614: 6, 608: 6, 599: 6, 596: 6, 575: 6, 555: 6, 541: 6, 535: 6, 531: 6, 522: 6, 519: 6, 505: 6, 494: 6, 492: 6, 488: 6, 485: 6, 483: 6, 477: 6, 475: 6, 470: 6, 463: 6, 456: 6, 446: 6, 430: 6, 422: 6, 418: 6, 410: 6, 399: 6, 392: 6, 391: 6, 389: 6, 386: 6, 380: 6, 369: 6, 360: 6, 354: 6, 350: 6, 343: 6, 341: 6, 331: 6, 330: 6, 287: 6, 286: 6, 2121: 5, 1251: 5, 1184: 5, 1099: 5, 1011: 5, 968: 5, 927: 5, 846: 5, 826: 5, 825: 5, 824: 5, 800: 5, 796: 5, 792: 5, 787: 5, 755: 5, 744: 5, 732: 5, 708: 5, 696: 5, 694: 5, 681: 5, 679: 5, 673: 5, 672: 5, 663: 5, 652: 5, 646: 5, 639: 5, 611: 5, 600: 5, 598: 5, 594: 5, 593: 5, 590: 5, 589: 5, 585: 5, 576: 5, 570: 5, 545: 5, 543: 5, 533: 5, 518: 5, 509: 5, 504: 5, 502: 5, 493: 5, 489: 5, 461: 5, 459: 5, 458: 5, 452: 5, 440: 5, 435: 5, 433: 5, 420: 5, 419: 5, 414: 5, 403: 5, 400: 5, 398: 5, 395: 5, 385: 5, 383: 5, 379: 5, 371: 5, 348: 5, 342: 5, 336: 5, 318: 5, 309: 5, 308: 5, 278: 5, 2380: 4, 1709: 4, 1646: 4, 1620: 4, 1546: 4, 1427: 4, 1345: 4, 1316: 4, 1303: 4, 1258: 4, 1230: 4, 1214: 4, 1172: 4, 1166: 4, 1158: 4, 1144: 4, 1112: 4, 1108: 4, 1091: 4, 1013: 4, 1008: 4, 933: 4, 895: 4, 877: 4, 874: 4, 859: 4, 854: 4, 852: 4, 839: 4, 834: 4, 833: 4, 831: 4, 829: 4, 815: 4, 812: 4, 808: 4, 794: 4, 790: 4, 789: 4, 783: 4, 779: 4, 765: 4, 759: 4, 753: 4, 748: 4, 747: 4, 730: 4, 729: 4, 726: 4, 723: 4, 721: 4, 720: 4, 716: 4, 714: 4, 693: 4, 688: 4, 684: 4, 682: 4, 665: 4, 659: 4, 654: 4, 651: 4, 649: 4, 648: 4, 647: 4, 645: 4, 643: 4, 641: 4, 640: 4, 634: 4, 631: 4, 630: 4, 629: 4, 625: 4, 620: 4, 613: 4, 612: 4, 610: 4, 609: 4, 597: 4, 584: 4, 577: 4, 574: 4, 565: 4, 564: 4, 563: 4, 557: 4, 554: 4, 552: 4, 546: 4, 544: 4, 542: 4, 540: 4, 525: 4, 515: 4, 512: 4, 510: 4, 496: 4, 490: 4, 478: 4, 469: 4, 468: 4, 467: 4, 449: 4, 444: 4, 441: 4, 434: 4, 421: 4, 404: 4, 402: 4, 390: 4, 374: 4, 367: 4, 365: 4, 359: 4, 335: 4, 325: 4, 272: 4, 4333: 3, 3904: 3, 3228: 3, 2624: 3, 2270: 3, 2120: 3, 2049: 3, 2018: 3, 2009: 3, 2007: 3, 1991: 3, 1906: 3, 1892: 3, 1849: 3, 1828: 3, 1823: 3, 1816: 3, 1792: 3, 1769: 3, 1698: 3, 1654: 3, 1634: 3, 1621: 3, 1578: 3, 1570: 3, 1533: 3, 1521: 3, 1520: 3, 1509: 3, 1493: 3, 1490: 3, 1464: 3, 1421: 3, 1404: 3, 1400: 3, 1368: 3, 1366: 3, 1341: 3, 1334: 3, 1322: 3, 1313: 3, 1310: 3, 1263: 3, 1260: 3, 1259: 3, 1248: 3, 1244: 3, 1235: 3, 1217: 3, 1206: 3, 1203: 3, 1185: 3, 1157: 3, 1151: 3, 1141: 3, 1123: 3, 1116: 3, 1101: 3, 1093: 3, 1092: 3, 1069: 3, 1066: 3, 1049: 3, 1023: 3, 1022: 3, 1007: 3, 1003: 3, 984: 3, 969: 3, 963: 3, 954: 3, 953: 3, 950: 3, 945: 3, 944: 3, 938: 3, 936: 3, 931: 3, 923: 3, 910: 3, 905: 3, 904: 3, 900: 3, 888: 3, 887: 3, 872: 3, 871: 3, 866: 3, 864: 3, 855: 3, 850: 3, 848: 3, 843: 3, 832: 3, 828: 3, 822: 3, 818: 3, 814: 3, 809: 3, 807: 3, 806: 3, 793: 3, 786: 3, 781: 3, 777: 3, 775: 3, 772: 3, 770: 3, 768: 3, 761: 3, 746: 3, 743: 3, 737: 3, 717: 3, 715: 3, 707: 3, 704: 3, 690: 3, 686: 3, 683: 3, 675: 3, 670: 3, 668: 3, 666: 3, 662: 3, 660: 3, 657: 3, 655: 3, 642: 3, 636: 3, 633: 3, 624: 3, 623: 3, 621: 3, 619: 3, 618: 3, 617: 3, 616: 3, 615: 3, 606: 3, 605: 3, 603: 3, 587: 3, 583: 3, 582: 3, 581: 3, 580: 3, 578: 3, 573: 3, 566: 3, 547: 3, 537: 3, 529: 3, 524: 3, 517: 3, 513: 3, 507: 3, 501: 3, 497: 3, 495: 3, 491: 3, 487: 3, 482: 3, 479: 3, 474: 3, 473: 3, 457: 3, 453: 3, 451: 3, 443: 3, 442: 3, 439: 3, 437: 3, 413: 3, 407: 3, 283: 3, 18707: 2, 12031: 2, 9228: 2, 8067: 2, 6805: 2, 6387: 2, 5863: 2, 5741: 2, 5381: 2, 5224: 2, 5162: 2, 5026: 2, 5025: 2, 4865: 2, 4862: 2, 4789: 2, 4742: 2, 4551: 2, 4355: 2, 4349: 2, 4323: 2, 4311: 2, 3945: 2, 3840: 2, 3739: 2, 3721: 2, 3528: 2, 3506: 2, 3483: 2, 3448: 2, 3377: 2, 3373: 2, 3357: 2, 3354: 2, 3300: 2, 3289: 2, 3288: 2, 3267: 2, 3229: 2, 3196: 2, 3185: 2, 3127: 2, 3095: 2, 3091: 2, 3078: 2, 3037: 2, 2936: 2, 2924: 2, 2911: 2, 2901: 2, 2884: 2, 2817: 2, 2813: 2, 2520: 2, 2518: 2, 2514: 2, 2505: 2, 2475: 2, 2470: 2, 2460: 2, 2447: 2, 2432: 2, 2407: 2, 2402: 2, 2401: 2, 2379: 2, 2378: 2, 2362: 2, 2343: 2, 2334: 2, 2321: 2, 2315: 2, 2300: 2, 2287: 2, 2256: 2, 2251: 2, 2243: 2, 2235: 2, 2213: 2, 2152: 2, 2146: 2, 2145: 2, 2128: 2, 2123: 2, 2119: 2, 2106: 2, 2101: 2, 2080: 2, 2056: 2, 2053: 2, 2025: 2, 2017: 2, 2005: 2, 2004: 2, 1994: 2, 1987: 2, 1983: 2, 1963: 2, 1949: 2, 1948: 2, 1927: 2, 1919: 2, 1909: 2, 1902: 2, 1898: 2, 1897: 2, 1894: 2, 1880: 2, 1878: 2, 1871: 2, 1870: 2, 1845: 2, 1837: 2, 1833: 2, 1826: 2, 1812: 2, 1810: 2, 1803: 2, 1796: 2, 1793: 2, 1786: 2, 1746: 2, 1744: 2, 1738: 2, 1732: 2, 1729: 2, 1728: 2, 1726: 2, 1718: 2, 1715: 2, 1713: 2, 1694: 2, 1683: 2, 1672: 2, 1648: 2, 1624: 2, 1622: 2, 1617: 2, 1616: 2, 1614: 2, 1605: 2, 1600: 2, 1597: 2, 1594: 2, 1590: 2, 1589: 2, 1588: 2, 1586: 2, 1583: 2, 1567: 2, 1566: 2, 1563: 2, 1559: 2, 1558: 2, 1557: 2, 1550: 2, 1545: 2, 1540: 2, 1534: 2, 1529: 2, 1527: 2, 1522: 2, 1519: 2, 1517: 2, 1515: 2, 1514: 2, 1508: 2, 1507: 2, 1500: 2, 1496: 2, 1491: 2, 1483: 2, 1470: 2, 1462: 2, 1460: 2, 1455: 2, 1454: 2, 1452: 2, 1441: 2, 1439: 2, 1430: 2, 1425: 2, 1414: 2, 1412: 2, 1407: 2, 1403: 2, 1396: 2, 1395: 2, 1389: 2, 1387: 2, 1381: 2, 1380: 2, 1378: 2, 1375: 2, 1374: 2, 1370: 2, 1369: 2, 1360: 2, 1359: 2, 1356: 2, 1354: 2, 1350: 2, 1342: 2, 1337: 2, 1331: 2, 1325: 2, 1311: 2, 1309: 2, 1308: 2, 1292: 2, 1284: 2, 1279: 2, 1277: 2, 1275: 2, 1274: 2, 1270: 2, 1269: 2, 1267: 2, 1266: 2, 1250: 2, 1247: 2, 1245: 2, 1238: 2, 1237: 2, 1229: 2, 1226: 2, 1221: 2, 1207: 2, 1202: 2, 1201: 2, 1195: 2, 1193: 2, 1192: 2, 1188: 2, 1181: 2, 1180: 2, 1179: 2, 1178: 2, 1177: 2, 1176: 2, 1175: 2, 1170: 2, 1156: 2, 1155: 2, 1154: 2, 1152: 2, 1143: 2, 1142: 2, 1140: 2, 1139: 2, 1132: 2, 1128: 2, 1127: 2, 1126: 2, 1117: 2, 1115: 2, 1113: 2, 1111: 2, 1110: 2, 1106: 2, 1105: 2, 1103: 2, 1094: 2, 1090: 2, 1086: 2, 1084: 2, 1077: 2, 1076: 2, 1072: 2, 1071: 2, 1064: 2, 1063: 2, 1060: 2, 1058: 2, 1052: 2, 1046: 2, 1044: 2, 1042: 2, 1041: 2, 1040: 2, 1039: 2, 1037: 2, 1031: 2, 1028: 2, 1015: 2, 1010: 2, 1004: 2, 999: 2, 996: 2, 995: 2, 985: 2, 982: 2, 980: 2, 978: 2, 976: 2, 974: 2, 972: 2, 970: 2, 966: 2, 962: 2, 958: 2, 957: 2, 956: 2, 949: 2, 948: 2, 947: 2, 942: 2, 940: 2, 932: 2, 930: 2, 929: 2, 924: 2, 922: 2, 921: 2, 920: 2, 918: 2, 916: 2, 914: 2, 907: 2, 903: 2, 902: 2, 901: 2, 899: 2, 896: 2, 894: 2, 893: 2, 891: 2, 884: 2, 882: 2, 879: 2, 875: 2, 869: 2, 867: 2, 862: 2, 861: 2, 860: 2, 858: 2, 849: 2, 847: 2, 844: 2, 842: 2, 841: 2, 837: 2, 835: 2, 827: 2, 823: 2, 821: 2, 813: 2, 805: 2, 802: 2, 799: 2, 788: 2, 782: 2, 780: 2, 778: 2, 776: 2, 774: 2, 766: 2, 760: 2, 751: 2, 749: 2, 741: 2, 740: 2, 739: 2, 735: 2, 734: 2, 733: 2, 731: 2, 728: 2, 727: 2, 725: 2, 718: 2, 709: 2, 703: 2, 702: 2, 701: 2, 700: 2, 699: 2, 698: 2, 697: 2, 692: 2, 687: 2, 680: 2, 677: 2, 676: 2, 674: 2, 667: 2, 658: 2, 656: 2, 653: 2, 644: 2, 635: 2, 607: 2, 595: 2, 592: 2, 579: 2, 572: 2, 571: 2, 568: 2, 567: 2, 562: 2, 558: 2, 548: 2, 539: 2, 532: 2, 528: 2, 527: 2, 523: 2, 514: 2, 506: 2, 503: 2, 476: 2, 472: 2, 454: 2, 429: 2, 428: 2, 416: 2, 412: 2, 152527: 1, 117517: 1, 81311: 1, 68921: 1, 66566: 1, 63983: 1, 63905: 1, 63854: 1, 62749: 1, 58375: 1, 53869: 1, 49458: 1, 48833: 1, 47569: 1, 46000: 1, 44412: 1, 42651: 1, 42111: 1, 42104: 1, 41101: 1, 40924: 1, 39917: 1, 39081: 1, 38858: 1, 38523: 1, 37965: 1, 37760: 1, 36283: 1, 36083: 1, 35894: 1, 34234: 1, 33906: 1, 33532: 1, 33440: 1, 31912: 1, 31628: 1, 29045: 1, 27711: 1, 27481: 1, 26251: 1, 26204: 1, 26162: 1, 26070: 1, 26016: 1, 25768: 1, 25671: 1, 24807: 1, 24481: 1, 24384: 1, 24106: 1, 24022: 1, 23636: 1, 23324: 1, 23148: 1, 22380: 1, 22229: 1, 22028: 1, 21904: 1, 21890: 1, 21068: 1, 20995: 1, 20726: 1, 20253: 1, 20189: 1, 19893: 1, 19637: 1, 19502: 1, 19431: 1, 19406: 1, 19172: 1, 19139: 1, 19014: 1, 19008: 1, 18939: 1, 18587: 1, 18499: 1, 18495: 1, 18169: 1, 18146: 1, 18130: 1, 17712: 1, 17695: 1, 17635: 1, 17567: 1, 17345: 1, 17310: 1, 17293: 1, 17239: 1, 17200: 1, 17136: 1, 17035: 1, 16935: 1, 16787: 1, 16767: 1, 16674: 1, 16673: 1, 16397: 1, 16227: 1, 15820: 1, 15710: 1, 15658: 1, 15635: 1, 15539: 1, 15537: 1, 15400: 1, 15283: 1, 15209: 1, 15017: 1, 14957: 1, 14793: 1, 14717: 1, 14704: 1, 14577: 1, 14464: 1, 14423: 1, 14334: 1, 14308: 1, 14265: 1, 14239: 1, 14109: 1, 13962: 1, 13887: 1, 13650: 1, 13603: 1, 13566: 1, 13447: 1, 13434: 1, 13333: 1, 13259: 1, 13163: 1, 13098: 1, 13075: 1, 13042: 1, 12928: 1, 12917: 1, 12882: 1, 12881: 1, 12876: 1, 12840: 1, 12605: 1, 12578: 1, 12577: 1, 12523: 1, 12522: 1, 12459: 1, 12441: 1, 12401: 1, 12398: 1, 12340: 1, 12329: 1, 12207: 1, 12187: 1, 12179: 1, 12162: 1, 12130: 1, 12077: 1, 12054: 1, 12035: 1, 11982: 1, 11905: 1, 11863: 1, 11841: 1, 11809: 1, 11759: 1, 11729: 1, 11727: 1, 11618: 1, 11612: 1, 11605: 1, 11521: 1, 11454: 1, 11436: 1, 11391: 1, 11348: 1, 11231: 1, 11076: 1, 11054: 1, 10997: 1, 10873: 1, 10745: 1, 10705: 1, 10634: 1, 10558: 1, 10557: 1, 10525: 1, 10517: 1, 10485: 1, 10440: 1, 10391: 1, 10316: 1, 10249: 1, 10228: 1, 10200: 1, 10130: 1, 10009: 1, 10007: 1, 10002: 1, 9995: 1, 9897: 1, 9894: 1, 9881: 1, 9852: 1, 9821: 1, 9790: 1, 9776: 1, 9770: 1, 9737: 1, 9716: 1, 9633: 1, 9610: 1, 9550: 1, 9498: 1, 9494: 1, 9490: 1, 9458: 1, 9311: 1, 9278: 1, 9276: 1, 9267: 1, 9262: 1, 9222: 1, 9204: 1, 9167: 1, 9057: 1, 9052: 1, 9026: 1, 9010: 1, 8987: 1, 8972: 1, 8957: 1, 8938: 1, 8869: 1, 8836: 1, 8831: 1, 8789: 1, 8773: 1, 8679: 1, 8673: 1, 8661: 1, 8636: 1, 8625: 1, 8608: 1, 8476: 1, 8386: 1, 8384: 1, 8366: 1, 8351: 1, 8339: 1, 8324: 1, 8285: 1, 8273: 1, 8247: 1, 8209: 1, 8170: 1, 8161: 1, 8099: 1, 8092: 1, 8072: 1, 8065: 1, 8062: 1, 8044: 1, 8004: 1, 7958: 1, 7957: 1, 7955: 1, 7948: 1, 7940: 1, 7903: 1, 7900: 1, 7896: 1, 7864: 1, 7861: 1, 7834: 1, 7814: 1, 7801: 1, 7795: 1, 7766: 1, 7763: 1, 7748: 1, 7705: 1, 7701: 1, 7681: 1, 7653: 1, 7639: 1, 7625: 1, 7620: 1, 7615: 1, 7572: 1, 7537: 1, 7532: 1, 7503: 1, 7487: 1, 7455: 1, 7390: 1, 7365: 1, 7364: 1, 7352: 1, 7351: 1, 7327: 1, 7288: 1, 7271: 1, 7251: 1, 7236: 1, 7232: 1, 7231: 1, 7184: 1, 7176: 1, 7171: 1, 7169: 1, 7151: 1, 7097: 1, 7085: 1, 7079: 1, 7065: 1, 7061: 1, 7024: 1, 7016: 1, 7011: 1, 7009: 1, 6936: 1, 6929: 1, 6922: 1, 6921: 1, 6910: 1, 6908: 1, 6893: 1, 6892: 1, 6889: 1, 6882: 1, 6876: 1, 6866: 1, 6853: 1, 6847: 1, 6754: 1, 6740: 1, 6737: 1, 6722: 1, 6699: 1, 6691: 1, 6651: 1, 6612: 1, 6611: 1, 6605: 1, 6544: 1, 6531: 1, 6517: 1, 6510: 1, 6497: 1, 6495: 1, 6482: 1, 6460: 1, 6417: 1, 6414: 1, 6400: 1, 6398: 1, 6388: 1, 6380: 1, 6372: 1, 6371: 1, 6359: 1, 6353: 1, 6347: 1, 6345: 1, 6340: 1, 6329: 1, 6309: 1, 6296: 1, 6242: 1, 6200: 1, 6197: 1, 6186: 1, 6180: 1, 6179: 1, 6094: 1, 6091: 1, 6081: 1, 6073: 1, 6056: 1, 6048: 1, 6043: 1, 6041: 1, 6038: 1, 5992: 1, 5977: 1, 5975: 1, 5928: 1, 5921: 1, 5916: 1, 5905: 1, 5890: 1, 5879: 1, 5875: 1, 5870: 1, 5866: 1, 5864: 1, 5861: 1, 5810: 1, 5807: 1, 5801: 1, 5792: 1, 5770: 1, 5761: 1, 5743: 1, 5737: 1, 5723: 1, 5717: 1, 5711: 1, 5710: 1, 5708: 1, 5684: 1, 5672: 1, 5666: 1, 5648: 1, 5644: 1, 5643: 1, 5611: 1, 5552: 1, 5533: 1, 5532: 1, 5528: 1, 5527: 1, 5493: 1, 5485: 1, 5456: 1, 5441: 1, 5422: 1, 5421: 1, 5418: 1, 5415: 1, 5408: 1, 5404: 1, 5380: 1, 5373: 1, 5349: 1, 5344: 1, 5342: 1, 5316: 1, 5300: 1, 5280: 1, 5268: 1, 5249: 1, 5214: 1, 5186: 1, 5180: 1, 5167: 1, 5156: 1, 5152: 1, 5134: 1, 5123: 1, 5095: 1, 5091: 1, 5082: 1, 5057: 1, 5053: 1, 5051: 1, 5045: 1, 5035: 1, 5030: 1, 5029: 1, 5017: 1, 5001: 1, 4997: 1, 4994: 1, 4991: 1, 4987: 1, 4986: 1, 4979: 1, 4975: 1, 4969: 1, 4935: 1, 4915: 1, 4901: 1, 4895: 1, 4886: 1, 4874: 1, 4854: 1, 4843: 1, 4835: 1, 4830: 1, 4825: 1, 4820: 1, 4813: 1, 4805: 1, 4801: 1, 4800: 1, 4793: 1, 4774: 1, 4747: 1, 4746: 1, 4735: 1, 4733: 1, 4732: 1, 4712: 1, 4708: 1, 4695: 1, 4682: 1, 4676: 1, 4671: 1, 4661: 1, 4656: 1, 4624: 1, 4601: 1, 4597: 1, 4588: 1, 4583: 1, 4550: 1, 4537: 1, 4536: 1, 4525: 1, 4520: 1, 4510: 1, 4508: 1, 4502: 1, 4491: 1, 4478: 1, 4475: 1, 4470: 1, 4459: 1, 4444: 1, 4418: 1, 4414: 1, 4407: 1, 4406: 1, 4395: 1, 4380: 1, 4376: 1, 4366: 1, 4364: 1, 4363: 1, 4361: 1, 4345: 1, 4331: 1, 4330: 1, 4320: 1, 4319: 1, 4314: 1, 4309: 1, 4308: 1, 4306: 1, 4305: 1, 4298: 1, 4290: 1, 4289: 1, 4287: 1, 4269: 1, 4268: 1, 4262: 1, 4256: 1, 4255: 1, 4252: 1, 4250: 1, 4221: 1, 4217: 1, 4212: 1, 4206: 1, 4201: 1, 4199: 1, 4196: 1, 4191: 1, 4190: 1, 4188: 1, 4171: 1, 4159: 1, 4145: 1, 4142: 1, 4141: 1, 4136: 1, 4123: 1, 4118: 1, 4115: 1, 4107: 1, 4106: 1, 4096: 1, 4089: 1, 4086: 1, 4083: 1, 4082: 1, 4056: 1, 4051: 1, 4047: 1, 4042: 1, 4035: 1, 4033: 1, 4026: 1, 4022: 1, 4016: 1, 4015: 1, 4006: 1, 3999: 1, 3986: 1, 3979: 1, 3973: 1, 3969: 1, 3965: 1, 3955: 1, 3950: 1, 3949: 1, 3941: 1, 3935: 1, 3934: 1, 3924: 1, 3917: 1, 3914: 1, 3900: 1, 3897: 1, 3892: 1, 3870: 1, 3858: 1, 3854: 1, 3848: 1, 3845: 1, 3823: 1, 3820: 1, 3819: 1, 3817: 1, 3814: 1, 3811: 1, 3810: 1, 3797: 1, 3794: 1, 3791: 1, 3787: 1, 3778: 1, 3765: 1, 3764: 1, 3747: 1, 3745: 1, 3735: 1, 3731: 1, 3730: 1, 3717: 1, 3714: 1, 3706: 1, 3705: 1, 3699: 1, 3695: 1, 3694: 1, 3687: 1, 3686: 1, 3679: 1, 3670: 1, 3667: 1, 3665: 1, 3663: 1, 3655: 1, 3653: 1, 3642: 1, 3640: 1, 3631: 1, 3628: 1, 3625: 1, 3622: 1, 3610: 1, 3608: 1, 3606: 1, 3603: 1, 3596: 1, 3591: 1, 3584: 1, 3576: 1, 3575: 1, 3568: 1, 3563: 1, 3560: 1, 3559: 1, 3555: 1, 3544: 1, 3542: 1, 3536: 1, 3535: 1, 3532: 1, 3527: 1, 3524: 1, 3520: 1, 3517: 1, 3512: 1, 3504: 1, 3501: 1, 3489: 1, 3485: 1, 3484: 1, 3477: 1, 3472: 1, 3469: 1, 3458: 1, 3456: 1, 3455: 1, 3452: 1, 3440: 1, 3437: 1, 3432: 1, 3421: 1, 3419: 1, 3411: 1, 3407: 1, 3404: 1, 3400: 1, 3399: 1, 3397: 1, 3385: 1, 3384: 1, 3383: 1, 3376: 1, 3365: 1, 3359: 1, 3356: 1, 3353: 1, 3341: 1, 3339: 1, 3338: 1, 3322: 1, 3319: 1, 3318: 1, 3315: 1, 3314: 1, 3311: 1, 3303: 1, 3295: 1, 3293: 1, 3290: 1, 3284: 1, 3283: 1, 3271: 1, 3265: 1, 3263: 1, 3262: 1, 3259: 1, 3254: 1, 3253: 1, 3252: 1, 3250: 1, 3246: 1, 3244: 1, 3231: 1, 3224: 1, 3223: 1, 3219: 1, 3216: 1, 3213: 1, 3195: 1, 3193: 1, 3168: 1, 3167: 1, 3163: 1, 3151: 1, 3147: 1, 3145: 1, 3138: 1, 3137: 1, 3125: 1, 3106: 1, 3102: 1, 3101: 1, 3096: 1, 3090: 1, 3086: 1, 3084: 1, 3081: 1, 3080: 1, 3079: 1, 3075: 1, 3056: 1, 3055: 1, 3054: 1, 3051: 1, 3049: 1, 3043: 1, 3025: 1, 3021: 1, 3016: 1, 3013: 1, 3012: 1, 3009: 1, 3000: 1, 2999: 1, 2995: 1, 2988: 1, 2981: 1, 2980: 1, 2975: 1, 2967: 1, 2964: 1, 2959: 1, 2958: 1, 2957: 1, 2955: 1, 2954: 1, 2953: 1, 2949: 1, 2946: 1, 2944: 1, 2939: 1, 2930: 1, 2929: 1, 2921: 1, 2918: 1, 2910: 1, 2907: 1, 2903: 1, 2899: 1, 2881: 1, 2878: 1, 2876: 1, 2871: 1, 2869: 1, 2867: 1, 2856: 1, 2850: 1, 2843: 1, 2840: 1, 2838: 1, 2836: 1, 2835: 1, 2834: 1, 2831: 1, 2825: 1, 2815: 1, 2807: 1, 2800: 1, 2792: 1, 2791: 1, 2789: 1, 2786: 1, 2785: 1, 2783: 1, 2773: 1, 2772: 1, 2771: 1, 2770: 1, 2766: 1, 2763: 1, 2760: 1, 2759: 1, 2751: 1, 2740: 1, 2727: 1, 2726: 1, 2725: 1, 2719: 1, 2718: 1, 2706: 1, 2705: 1, 2700: 1, 2695: 1, 2687: 1, 2686: 1, 2677: 1, 2676: 1, 2674: 1, 2672: 1, 2669: 1, 2668: 1, 2664: 1, 2660: 1, 2658: 1, 2657: 1, 2649: 1, 2648: 1, 2646: 1, 2644: 1, 2642: 1, 2639: 1, 2631: 1, 2630: 1, 2628: 1, 2627: 1, 2626: 1, 2625: 1, 2623: 1, 2622: 1, 2621: 1, 2617: 1, 2616: 1, 2615: 1, 2610: 1, 2608: 1, 2607: 1, 2603: 1, 2600: 1, 2599: 1, 2597: 1, 2592: 1, 2588: 1, 2584: 1, 2581: 1, 2577: 1, 2572: 1, 2570: 1, 2568: 1, 2564: 1, 2563: 1, 2561: 1, 2559: 1, 2555: 1, 2552: 1, 2550: 1, 2542: 1, 2539: 1, 2535: 1, 2534: 1, 2529: 1, 2526: 1, 2524: 1, 2522: 1, 2521: 1, 2519: 1, 2515: 1, 2512: 1, 2510: 1, 2509: 1, 2508: 1, 2501: 1, 2496: 1, 2493: 1, 2486: 1, 2485: 1, 2484: 1, 2479: 1, 2477: 1, 2471: 1, 2465: 1, 2462: 1, 2458: 1, 2456: 1, 2450: 1, 2445: 1, 2440: 1, 2439: 1, 2433: 1, 2431: 1, 2430: 1, 2423: 1, 2418: 1, 2417: 1, 2414: 1, 2410: 1, 2406: 1, 2404: 1, 2394: 1, 2390: 1, 2386: 1, 2385: 1, 2384: 1, 2375: 1, 2373: 1, 2371: 1, 2360: 1, 2355: 1, 2351: 1, 2349: 1, 2340: 1, 2339: 1, 2337: 1, 2333: 1, 2331: 1, 2328: 1, 2327: 1, 2317: 1, 2313: 1, 2311: 1, 2307: 1, 2301: 1, 2295: 1, 2288: 1, 2283: 1, 2279: 1, 2278: 1, 2277: 1, 2275: 1, 2271: 1, 2268: 1, 2266: 1, 2264: 1, 2261: 1, 2259: 1, 2258: 1, 2255: 1, 2252: 1, 2248: 1, 2244: 1, 2240: 1, 2234: 1, 2229: 1, 2222: 1, 2218: 1, 2215: 1, 2212: 1, 2211: 1, 2210: 1, 2208: 1, 2207: 1, 2204: 1, 2203: 1, 2202: 1, 2200: 1, 2197: 1, 2192: 1, 2188: 1, 2187: 1, 2184: 1, 2181: 1, 2180: 1, 2175: 1, 2171: 1, 2170: 1, 2169: 1, 2168: 1, 2166: 1, 2162: 1, 2158: 1, 2157: 1, 2155: 1, 2150: 1, 2149: 1, 2144: 1, 2142: 1, 2140: 1, 2137: 1, 2135: 1, 2129: 1, 2125: 1, 2111: 1, 2110: 1, 2105: 1, 2098: 1, 2095: 1, 2094: 1, 2092: 1, 2091: 1, 2089: 1, 2087: 1, 2086: 1, 2078: 1, 2076: 1, 2071: 1, 2069: 1, 2065: 1, 2061: 1, 2055: 1, 2050: 1, 2048: 1, 2047: 1, 2046: 1, 2045: 1, 2037: 1, 2036: 1, 2033: 1, 2029: 1, 2026: 1, 2024: 1, 2012: 1, 2010: 1, 2008: 1, 2006: 1, 2001: 1, 2000: 1, 1999: 1, 1993: 1, 1992: 1, 1989: 1, 1988: 1, 1982: 1, 1975: 1, 1974: 1, 1973: 1, 1971: 1, 1959: 1, 1958: 1, 1956: 1, 1955: 1, 1952: 1, 1944: 1, 1939: 1, 1938: 1, 1937: 1, 1935: 1, 1933: 1, 1930: 1, 1926: 1, 1918: 1, 1917: 1, 1916: 1, 1914: 1, 1910: 1, 1903: 1, 1900: 1, 1899: 1, 1896: 1, 1888: 1, 1887: 1, 1882: 1, 1879: 1, 1877: 1, 1872: 1, 1868: 1, 1859: 1, 1856: 1, 1855: 1, 1853: 1, 1851: 1, 1842: 1, 1840: 1, 1832: 1, 1827: 1, 1822: 1, 1817: 1, 1811: 1, 1808: 1, 1807: 1, 1806: 1, 1802: 1, 1801: 1, 1800: 1, 1797: 1, 1788: 1, 1784: 1, 1781: 1, 1778: 1, 1777: 1, 1774: 1, 1771: 1, 1765: 1, 1764: 1, 1763: 1, 1758: 1, 1757: 1, 1753: 1, 1751: 1, 1747: 1, 1745: 1, 1742: 1, 1734: 1, 1733: 1, 1731: 1, 1724: 1, 1717: 1, 1712: 1, 1711: 1, 1710: 1, 1705: 1, 1702: 1, 1700: 1, 1699: 1, 1696: 1, 1695: 1, 1686: 1, 1681: 1, 1679: 1, 1678: 1, 1677: 1, 1676: 1, 1669: 1, 1667: 1, 1665: 1, 1664: 1, 1662: 1, 1660: 1, 1659: 1, 1658: 1, 1656: 1, 1655: 1, 1653: 1, 1650: 1, 1649: 1, 1645: 1, 1644: 1, 1641: 1, 1638: 1, 1637: 1, 1636: 1, 1633: 1, 1632: 1, 1630: 1, 1629: 1, 1628: 1, 1619: 1, 1618: 1, 1615: 1, 1611: 1, 1610: 1, 1609: 1, 1608: 1, 1606: 1, 1598: 1, 1596: 1, 1595: 1, 1592: 1, 1591: 1, 1587: 1, 1584: 1, 1582: 1, 1576: 1, 1575: 1, 1574: 1, 1571: 1, 1569: 1, 1568: 1, 1562: 1, 1561: 1, 1555: 1, 1554: 1, 1548: 1, 1547: 1, 1541: 1, 1538: 1, 1535: 1, 1532: 1, 1531: 1, 1525: 1, 1524: 1, 1516: 1, 1513: 1, 1506: 1, 1505: 1, 1504: 1, 1502: 1, 1501: 1, 1498: 1, 1492: 1, 1485: 1, 1482: 1, 1481: 1, 1475: 1, 1474: 1, 1469: 1, 1468: 1, 1467: 1, 1463: 1, 1449: 1, 1448: 1, 1445: 1, 1444: 1, 1442: 1, 1440: 1, 1424: 1, 1422: 1, 1420: 1, 1419: 1, 1416: 1, 1415: 1, 1413: 1, 1410: 1, 1408: 1, 1406: 1, 1402: 1, 1399: 1, 1394: 1, 1393: 1, 1391: 1, 1386: 1, 1384: 1, 1383: 1, 1382: 1, 1379: 1, 1376: 1, 1367: 1, 1362: 1, 1361: 1, 1358: 1, 1355: 1, 1352: 1, 1347: 1, 1344: 1, 1343: 1, 1340: 1, 1335: 1, 1333: 1, 1332: 1, 1329: 1, 1328: 1, 1327: 1, 1324: 1, 1321: 1, 1319: 1, 1315: 1, 1314: 1, 1312: 1, 1307: 1, 1306: 1, 1305: 1, 1304: 1, 1302: 1, 1301: 1, 1300: 1, 1299: 1, 1298: 1, 1297: 1, 1296: 1, 1293: 1, 1291: 1, 1290: 1, 1289: 1, 1288: 1, 1287: 1, 1286: 1, 1281: 1, 1278: 1, 1276: 1, 1271: 1, 1265: 1, 1264: 1, 1261: 1, 1257: 1, 1254: 1, 1253: 1, 1252: 1, 1249: 1, 1246: 1, 1243: 1, 1242: 1, 1240: 1, 1239: 1, 1236: 1, 1234: 1, 1228: 1, 1227: 1, 1225: 1, 1224: 1, 1219: 1, 1218: 1, 1213: 1, 1212: 1, 1210: 1, 1209: 1, 1205: 1, 1200: 1, 1199: 1, 1198: 1, 1197: 1, 1194: 1, 1191: 1, 1190: 1, 1189: 1, 1187: 1, 1183: 1, 1171: 1, 1169: 1, 1167: 1, 1164: 1, 1163: 1, 1162: 1, 1161: 1, 1153: 1, 1149: 1, 1148: 1, 1146: 1, 1145: 1, 1138: 1, 1137: 1, 1135: 1, 1131: 1, 1130: 1, 1122: 1, 1121: 1, 1120: 1, 1119: 1, 1107: 1, 1104: 1, 1102: 1, 1096: 1, 1089: 1, 1088: 1, 1085: 1, 1083: 1, 1081: 1, 1079: 1, 1078: 1, 1073: 1, 1070: 1, 1068: 1, 1065: 1, 1062: 1, 1059: 1, 1055: 1, 1054: 1, 1051: 1, 1048: 1, 1047: 1, 1045: 1, 1043: 1, 1036: 1, 1035: 1, 1034: 1, 1033: 1, 1032: 1, 1030: 1, 1026: 1, 1024: 1, 1021: 1, 1016: 1, 1012: 1, 1005: 1, 1002: 1, 1001: 1, 998: 1, 997: 1, 994: 1, 993: 1, 990: 1, 988: 1, 987: 1, 986: 1, 983: 1, 981: 1, 979: 1, 975: 1, 973: 1, 967: 1, 965: 1, 964: 1, 960: 1, 959: 1, 955: 1, 951: 1, 946: 1, 943: 1, 941: 1, 939: 1, 937: 1, 935: 1, 934: 1, 928: 1, 919: 1, 917: 1, 915: 1, 913: 1, 912: 1, 909: 1, 898: 1, 890: 1, 889: 1, 886: 1, 883: 1, 881: 1, 880: 1, 878: 1, 876: 1, 873: 1, 868: 1, 865: 1, 857: 1, 851: 1, 840: 1, 836: 1, 820: 1, 819: 1, 816: 1, 811: 1, 810: 1, 804: 1, 801: 1, 798: 1, 797: 1, 795: 1, 791: 1, 784: 1, 773: 1, 771: 1, 769: 1, 767: 1, 764: 1, 763: 1, 762: 1, 758: 1, 757: 1, 756: 1, 754: 1, 750: 1, 736: 1, 724: 1, 719: 1, 713: 1, 712: 1, 711: 1, 710: 1, 706: 1, 695: 1, 689: 1, 685: 1, 678: 1, 664: 1, 661: 1, 638: 1, 637: 1, 604: 1, 601: 1, 591: 1, 586: 1, 569: 1, 560: 1, 559: 1, 556: 1, 538: 1, 536: 1, 534: 1, 530: 1, 521: 1, 508: 1, 484: 1, 401: 1, 397: 1})\n"
     ]
    }
   ],
   "source": [
    "print(Counter(sorted_text_occur))"
   ]
  },
  {
   "cell_type": "markdown",
   "metadata": {},
   "source": [
    "3. How to featurize text field?\n",
    "\n",
    "Ans:<li>Response Coding</li>\n",
    "<li>One Hot Encoding</li>"
   ]
  },
  {
   "cell_type": "code",
   "execution_count": 49,
   "metadata": {
    "colab": {
     "base_uri": "https://localhost:8080/",
     "height": 451
    },
    "id": "1sys81mqOQyh",
    "outputId": "de0b1681-93ad-4fe8-9637-3e20201226e0"
   },
   "outputs": [
    {
     "name": "stdout",
     "output_type": "stream",
     "text": [
      "For values of alpha =  1e-05 The log loss is: 1.253372972922471\n",
      "For values of alpha =  0.0001 The log loss is: 1.1462010234999238\n",
      "For values of alpha =  0.001 The log loss is: 1.1216369975157192\n",
      "For values of alpha =  0.01 The log loss is: 1.2279305213581015\n",
      "For values of alpha =  0.1 The log loss is: 1.4573108715271879\n",
      "For values of alpha =  1 The log loss is: 1.6563359593166187\n"
     ]
    },
    {
     "data": {
      "image/png": "[encoded data removed]",
      "text/plain": [
       "<Figure size 432x288 with 1 Axes>"
      ]
     },
     "metadata": {
      "needs_background": "light"
     },
     "output_type": "display_data"
    },
    {
     "name": "stdout",
     "output_type": "stream",
     "text": [
      "For values of best alpha =  0.001 The train log loss is: 0.6274962794071945\n",
      "For values of best alpha =  0.001 The cross validation log loss is: 1.1216369975157192\n",
      "For values of best alpha =  0.001 The test log loss is: 1.3206191179530555\n"
     ]
    }
   ],
   "source": [
    "# Train a Logistic regression+Calibration model using text features whicha re on-hot encoded\n",
    "alpha = [10 ** x for x in range(-5, 1)]\n",
    "\n",
    "cv_log_error_array=[]\n",
    "for i in alpha:\n",
    "    clf = SGDClassifier(alpha=i, penalty='l2', loss='log_loss', random_state=random_state)\n",
    "    clf.fit(train_text_feature_onehotCoding, y_train)\n",
    "    \n",
    "    sig_clf = CalibratedClassifierCV(clf, method=\"sigmoid\")\n",
    "    sig_clf.fit(train_text_feature_onehotCoding, y_train)\n",
    "    predict_y = sig_clf.predict_proba(cv_text_feature_onehotCoding)\n",
    "    cv_log_error_array.append(log_loss(y_cv, predict_y, labels=clf.classes_, eps=1e-15))\n",
    "    print('For values of alpha = ', i, \"The log loss is:\",log_loss(y_cv, predict_y, labels=clf.classes_, eps=1e-15))\n",
    "\n",
    "fig, ax = plt.subplots()\n",
    "ax.plot(alpha, cv_log_error_array,c='g')\n",
    "for i, txt in enumerate(np.round(cv_log_error_array,3)):\n",
    "    ax.annotate((alpha[i],np.round(txt,3)), (alpha[i],cv_log_error_array[i]))\n",
    "plt.grid()\n",
    "plt.title(\"Cross Validation Error for each alpha\")\n",
    "plt.xlabel(\"Alpha i's\")\n",
    "plt.ylabel(\"Error measure\")\n",
    "plt.show()\n",
    "\n",
    "\n",
    "best_alpha = np.argmin(cv_log_error_array)\n",
    "clf = SGDClassifier(alpha=alpha[best_alpha], penalty='l2', loss='log_loss', random_state=random_state)\n",
    "clf.fit(train_text_feature_onehotCoding, y_train)\n",
    "sig_clf = CalibratedClassifierCV(clf, method=\"sigmoid\")\n",
    "sig_clf.fit(train_text_feature_onehotCoding, y_train)\n",
    "\n",
    "predict_y = sig_clf.predict_proba(train_text_feature_onehotCoding)\n",
    "print('For values of best alpha = ', alpha[best_alpha], \"The train log loss is:\",log_loss(y_train, predict_y, labels=clf.classes_, eps=1e-15))\n",
    "predict_y = sig_clf.predict_proba(cv_text_feature_onehotCoding)\n",
    "print('For values of best alpha = ', alpha[best_alpha], \"The cross validation log loss is:\",log_loss(y_cv, predict_y, labels=clf.classes_, eps=1e-15))\n",
    "predict_y = sig_clf.predict_proba(test_text_feature_onehotCoding)\n",
    "print('For values of best alpha = ', alpha[best_alpha], \"The test log loss is:\",log_loss(y_test, predict_y, labels=clf.classes_, eps=1e-15))\n"
   ]
  },
  {
   "cell_type": "markdown",
   "metadata": {
    "id": "s6AqmMa0OQym"
   },
   "source": [
    "4. Is the text feature useful in predicitng y_i?\n",
    "\n",
    "Ans. Yes, as it is reducing loss values but it is stable? \n",
    "\n",
    "5. Is the Text feature stable across all the data sets (Test, Train, Cross validation)?\n",
    "\n",
    "Ans. Yes, it seems like! "
   ]
  },
  {
   "cell_type": "code",
   "execution_count": 50,
   "metadata": {
    "id": "p_cUhp-ZOQyn"
   },
   "outputs": [],
   "source": [
    "def get_intersec_text(df):\n",
    "    df_text_vec = CountVectorizer(min_df=3)\n",
    "    df_text_fea = df_text_vec.fit_transform(df['Text'])\n",
    "    df_text_features = df_text_vec.get_feature_names()\n",
    "\n",
    "    df_text_fea_counts = df_text_fea.sum(axis=0).A1\n",
    "    df_text_fea_dict = dict(zip(list(df_text_features),df_text_fea_counts))\n",
    "    len1 = len(set(df_text_features))\n",
    "    len2 = len(set(train_text_features) & set(df_text_features))\n",
    "    return len1,len2"
   ]
  },
  {
   "cell_type": "code",
   "execution_count": 51,
   "metadata": {
    "colab": {
     "base_uri": "https://localhost:8080/"
    },
    "id": "yjNmkGN9OQyo",
    "outputId": "d100b814-e26b-4a09-b263-c0038767f436"
   },
   "outputs": [
    {
     "name": "stdout",
     "output_type": "stream",
     "text": [
      "95.164 % of word of test data appeared in train data\n",
      "98.152 % of word of Cross Validation appeared in train data\n"
     ]
    }
   ],
   "source": [
    "len1,len2 = get_intersec_text(test_df)\n",
    "print(np.round((len2/len1)*100, 3), \"% of word of test data appeared in train data\")\n",
    "len1,len2 = get_intersec_text(cv_df)\n",
    "print(np.round((len2/len1)*100, 3), \"% of word of Cross Validation appeared in train data\")"
   ]
  },
  {
   "cell_type": "markdown",
   "metadata": {
    "id": "XXWA-CNqOQys"
   },
   "source": [
    "<h3>4. Data Preprocessing for Modelling</h3>"
   ]
  },
  {
   "cell_type": "code",
   "execution_count": 52,
   "metadata": {
    "id": "EKJzoIyQOQys"
   },
   "outputs": [],
   "source": [
    "def predict_and_plot_confusion_matrix(train_x, train_y,test_x, test_y, clf):\n",
    "    clf.fit(train_x, train_y)\n",
    "    sig_clf = CalibratedClassifierCV(clf, method=\"sigmoid\")\n",
    "    sig_clf.fit(train_x, train_y)\n",
    "    pred_y = sig_clf.predict(test_x)\n",
    "\n",
    "    # for calculating log_loss we willl provide the array of probabilities belongs to each class\n",
    "    print(\"Log loss :\",log_loss(test_y, sig_clf.predict_proba(test_x)))\n",
    "    # calculating the number of data points that are misclassified\n",
    "    print(\"Number of mis-classified points :\", np.count_nonzero((pred_y- test_y))/test_y.shape[0])\n",
    "    plot_confusion_matrix(test_y, pred_y)\n",
    "    \n",
    "def report_log_loss(train_x, train_y, test_x, test_y,  clf):\n",
    "    clf.fit(train_x, train_y)\n",
    "    sig_clf = CalibratedClassifierCV(clf, method=\"sigmoid\")\n",
    "    sig_clf.fit(train_x, train_y)\n",
    "    sig_clf_probs = sig_clf.predict_proba(test_x)\n",
    "    return log_loss(test_y, sig_clf_probs, eps=1e-15)\n",
    "\n",
    "def get_impfeature_names(indices, text, gene, var, no_features):\n",
    "    \"\"\"\n",
    "    this function will be used just for naive bayes. For the given indices, we will print the name of the features\n",
    "    and we will check whether the feature present in the test point text or not\n",
    "    \"\"\"\n",
    "    gene_count_vec = CountVectorizer()\n",
    "    var_count_vec = CountVectorizer()\n",
    "    text_count_vec = CountVectorizer(min_df=3)\n",
    "    \n",
    "    gene_vec = gene_count_vec.fit(train_df['Gene'])\n",
    "    var_vec  = var_count_vec.fit(train_df['Variation'])\n",
    "    text_vec = text_count_vec.fit(train_df['Text'])\n",
    "    \n",
    "    fea1_len = len(gene_vec.get_feature_names())\n",
    "    fea2_len = len(var_count_vec.get_feature_names())\n",
    "    \n",
    "    word_present = 0\n",
    "    for i,v in enumerate(indices):\n",
    "        if (v < fea1_len):\n",
    "            word = gene_vec.get_feature_names()[v]\n",
    "            yes_no = True if word == gene else False\n",
    "            if yes_no:\n",
    "                word_present += 1\n",
    "                print(i, \"Gene feature [{}] present in test data point [{}]\".format(word,yes_no))\n",
    "        elif (v < fea1_len+fea2_len):\n",
    "            word = var_vec.get_feature_names()[v-(fea1_len)]\n",
    "            yes_no = True if word == var else False\n",
    "            if yes_no:\n",
    "                word_present += 1\n",
    "                print(i, \"variation feature [{}] present in test data point [{}]\".format(word,yes_no))\n",
    "        else:\n",
    "            word = text_vec.get_feature_names()[v-(fea1_len+fea2_len)]\n",
    "            yes_no = True if word in text.split() else False\n",
    "            if yes_no:\n",
    "                word_present += 1\n",
    "                print(i, \"Text feature [{}] present in test data point [{}]\".format(word,yes_no))\n",
    "\n",
    "    print(\"Out of the top \",no_features,\" features \", word_present, \"are present in query point\")"
   ]
  },
  {
   "cell_type": "code",
   "execution_count": 53,
   "metadata": {
    "id": "XmI-EZ-XOQyv"
   },
   "outputs": [
    {
     "name": "stdout",
     "output_type": "stream",
     "text": [
      "One hot encoding features :\n",
      "(number of data points * number of features) in train data =  (2124, 54591)\n",
      "(number of data points * number of features) in test data =  (665, 54591)\n",
      "(number of data points * number of features) in cross validation data = (532, 54591)\n"
     ]
    }
   ],
   "source": [
    "# Stacking the three types of features\n",
    "# merging gene, variance and text features\n",
    "\n",
    "# building train, test and cross validation data sets\n",
    "# a = [[1, 2], \n",
    "#      [3, 4]]\n",
    "# b = [[4, 5], \n",
    "#      [6, 7]]\n",
    "# hstack(a, b) = [[1, 2, 4, 5],\n",
    "#                [ 3, 4, 6, 7]]\n",
    "\n",
    "train_gene_var_onehotCoding = hstack((train_gene_feature_onehotCoding,train_variation_feature_onehotCoding))\n",
    "test_gene_var_onehotCoding = hstack((test_gene_feature_onehotCoding,test_variation_feature_onehotCoding))\n",
    "cv_gene_var_onehotCoding = hstack((cv_gene_feature_onehotCoding,cv_variation_feature_onehotCoding))\n",
    "\n",
    "train_x_onehotCoding = hstack((train_gene_var_onehotCoding, train_text_feature_onehotCoding)).tocsr()\n",
    "train_y = np.array(list(train_df['Class']))\n",
    "\n",
    "test_x_onehotCoding = hstack((test_gene_var_onehotCoding, test_text_feature_onehotCoding)).tocsr()\n",
    "test_y = np.array(list(test_df['Class']))\n",
    "\n",
    "cv_x_onehotCoding = hstack((cv_gene_var_onehotCoding, cv_text_feature_onehotCoding)).tocsr()\n",
    "cv_y = np.array(list(cv_df['Class']))\n",
    "\n",
    "print(\"One hot encoding features :\")\n",
    "print(\"(number of data points * number of features) in train data = \", train_x_onehotCoding.shape)\n",
    "print(\"(number of data points * number of features) in test data = \", test_x_onehotCoding.shape)\n",
    "print(\"(number of data points * number of features) in cross validation data =\", cv_x_onehotCoding.shape)"
   ]
  },
  {
   "cell_type": "code",
   "execution_count": 54,
   "metadata": {
    "id": "m68G02CbOQyw"
   },
   "outputs": [
    {
     "name": "stdout",
     "output_type": "stream",
     "text": [
      "Response encoding features:\n",
      "(number of data points * number of features) in train data =  (2124, 27)\n",
      "(number of data points * number of features) in test data =  (665, 27)\n",
      "(number of data points * number of features) in cross validation data = (532, 27)\n"
     ]
    }
   ],
   "source": [
    "train_gene_var_responseCoding = np.hstack((train_gene_feature_responseCoding,train_variation_feature_responseCoding))\n",
    "test_gene_var_responseCoding = np.hstack((test_gene_feature_responseCoding,test_variation_feature_responseCoding))\n",
    "cv_gene_var_responseCoding = np.hstack((cv_gene_feature_responseCoding,cv_variation_feature_responseCoding))\n",
    "\n",
    "train_x_responseCoding = np.hstack((train_gene_var_responseCoding, train_text_feature_responseCoding))\n",
    "test_x_responseCoding = np.hstack((test_gene_var_responseCoding, test_text_feature_responseCoding))\n",
    "cv_x_responseCoding = np.hstack((cv_gene_var_responseCoding, cv_text_feature_responseCoding))\n",
    "\n",
    "print(\"Response encoding features:\")\n",
    "print(\"(number of data points * number of features) in train data = \", train_x_responseCoding.shape)\n",
    "print(\"(number of data points * number of features) in test data = \", test_x_responseCoding.shape)\n",
    "print(\"(number of data points * number of features) in cross validation data =\", cv_x_responseCoding.shape)"
   ]
  },
  {
   "cell_type": "code",
   "execution_count": null,
   "metadata": {},
   "outputs": [],
   "source": []
  }
 ],
 "metadata": {
  "colab": {
   "provenance": []
  },
  "kernelspec": {
   "display_name": "Python 3 (ipykernel)",
   "language": "python",
   "name": "python3"
  },
  "language_info": {
   "codemirror_mode": {
    "name": "ipython",
    "version": 3
   },
   "file_extension": ".py",
   "mimetype": "text/x-python",
   "name": "python",
   "nbconvert_exporter": "python",
   "pygments_lexer": "ipython3",
   "version": "3.8.10"
  }
 },
 "nbformat": 4,
 "nbformat_minor": 4
}
